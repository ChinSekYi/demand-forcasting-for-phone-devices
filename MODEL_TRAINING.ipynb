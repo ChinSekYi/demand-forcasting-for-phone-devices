{
 "cells": [
  {
   "cell_type": "markdown",
   "metadata": {},
   "source": [
    "# Model Training"
   ]
  },
  {
   "cell_type": "markdown",
   "metadata": {},
   "source": [
    "## Table of Contents\n",
    "- Data Preparation\n",
    "- Modelling\n",
    "    - ARIMA\n",
    "    - Random Forest\n",
    "    - XGBoost\n",
    "- Comparison of Models\n",
    "- Results\n",
    "\n",
    "<br>\n",
    "\n",
    "---"
   ]
  },
  {
   "cell_type": "markdown",
   "metadata": {},
   "source": [
    "### Data preparation"
   ]
  },
  {
   "cell_type": "code",
   "execution_count": 58,
   "metadata": {},
   "outputs": [],
   "source": [
    "import pandas as pd\n",
    "import matplotlib.pyplot as plt\n",
    "import warnings\n",
    "warnings.filterwarnings(\"ignore\")\n",
    "\n",
    "df = pd.read_csv(\"data/cleaned_df_v2.csv\", index_col=False)\n",
    "df = df.iloc[: , 1:]\n",
    "\n",
    "# convert date\n",
    "df['year_month'] = pd.to_datetime(df['year_month'])\n",
    "df['year'] = df['year_month'].dt.year\n",
    "df['month'] = df['year_month'].dt.month"
   ]
  },
  {
   "cell_type": "code",
   "execution_count": 59,
   "metadata": {},
   "outputs": [
    {
     "data": {
      "text/html": [
       "<div>\n",
       "<style scoped>\n",
       "    .dataframe tbody tr th:only-of-type {\n",
       "        vertical-align: middle;\n",
       "    }\n",
       "\n",
       "    .dataframe tbody tr th {\n",
       "        vertical-align: top;\n",
       "    }\n",
       "\n",
       "    .dataframe thead th {\n",
       "        text-align: right;\n",
       "    }\n",
       "</style>\n",
       "<table border=\"1\" class=\"dataframe\">\n",
       "  <thead>\n",
       "    <tr style=\"text-align: right;\">\n",
       "      <th></th>\n",
       "      <th>year</th>\n",
       "      <th>month</th>\n",
       "      <th>us_state</th>\n",
       "      <th>make</th>\n",
       "      <th>phone_series</th>\n",
       "      <th>model_family</th>\n",
       "      <th>model_age_months</th>\n",
       "      <th>predecessor</th>\n",
       "      <th>successor</th>\n",
       "      <th>model</th>\n",
       "      <th>sku</th>\n",
       "      <th>sku_no_colour</th>\n",
       "      <th>colour</th>\n",
       "      <th>size</th>\n",
       "      <th>claims</th>\n",
       "      <th>ir_rate_swap</th>\n",
       "      <th>ir_rate_replacement</th>\n",
       "      <th>ir_rate_monthly</th>\n",
       "      <th>churn_rate</th>\n",
       "    </tr>\n",
       "  </thead>\n",
       "  <tbody>\n",
       "    <tr>\n",
       "      <th>6615</th>\n",
       "      <td>2023</td>\n",
       "      <td>6</td>\n",
       "      <td>Nevada</td>\n",
       "      <td>Apple</td>\n",
       "      <td>IPHONE 12</td>\n",
       "      <td>APPLE IPHONE 12 PRO MAX</td>\n",
       "      <td>31</td>\n",
       "      <td>APPLE IPHONE 11 PRO MAX</td>\n",
       "      <td>APPLE IPHONE 13 PRO MAX</td>\n",
       "      <td>IPHONE 12 PRO MAX 5G 256GB GRAPHITE</td>\n",
       "      <td>IPH12PRM5G256GRY</td>\n",
       "      <td>IPH12PRM5G256</td>\n",
       "      <td>Gray</td>\n",
       "      <td>256</td>\n",
       "      <td>3.0</td>\n",
       "      <td>0.0</td>\n",
       "      <td>0.0</td>\n",
       "      <td>0.001585</td>\n",
       "      <td>0.049128</td>\n",
       "    </tr>\n",
       "    <tr>\n",
       "      <th>9440</th>\n",
       "      <td>2023</td>\n",
       "      <td>5</td>\n",
       "      <td>Nevada</td>\n",
       "      <td>Apple</td>\n",
       "      <td>IPHONE XR</td>\n",
       "      <td>APPLE IPHONE XR</td>\n",
       "      <td>55</td>\n",
       "      <td>APPLE IPHONE X</td>\n",
       "      <td>APPLE IPHONE 11</td>\n",
       "      <td>IPHONE XR 64GB BLACK</td>\n",
       "      <td>IPHXR64BLK</td>\n",
       "      <td>IPHXR64</td>\n",
       "      <td>Black</td>\n",
       "      <td>64</td>\n",
       "      <td>0.0</td>\n",
       "      <td>0.0</td>\n",
       "      <td>0.0</td>\n",
       "      <td>0.000000</td>\n",
       "      <td>0.055838</td>\n",
       "    </tr>\n",
       "    <tr>\n",
       "      <th>1549</th>\n",
       "      <td>2022</td>\n",
       "      <td>12</td>\n",
       "      <td>Texas</td>\n",
       "      <td>Oppo</td>\n",
       "      <td>OPPO A90</td>\n",
       "      <td>OPPO A94</td>\n",
       "      <td>21</td>\n",
       "      <td>First Model</td>\n",
       "      <td>Last Model</td>\n",
       "      <td>A94 128GB SILVER</td>\n",
       "      <td>A94128SIL</td>\n",
       "      <td>A94128</td>\n",
       "      <td>Silver</td>\n",
       "      <td>128</td>\n",
       "      <td>0.0</td>\n",
       "      <td>0.0</td>\n",
       "      <td>0.0</td>\n",
       "      <td>0.000000</td>\n",
       "      <td>0.073171</td>\n",
       "    </tr>\n",
       "    <tr>\n",
       "      <th>10717</th>\n",
       "      <td>2019</td>\n",
       "      <td>9</td>\n",
       "      <td>Nevada</td>\n",
       "      <td>Samsung</td>\n",
       "      <td>SAMSUNG GALAXY NOTE 9</td>\n",
       "      <td>SAMSUNG GALAXY NOTE 9</td>\n",
       "      <td>13</td>\n",
       "      <td>First Model</td>\n",
       "      <td>Last Model</td>\n",
       "      <td>GALAXY NOTE 9 128GB BLACK</td>\n",
       "      <td>NOTE9128BLK</td>\n",
       "      <td>NOTE9128</td>\n",
       "      <td>Black</td>\n",
       "      <td>128</td>\n",
       "      <td>16.0</td>\n",
       "      <td>0.0</td>\n",
       "      <td>0.0</td>\n",
       "      <td>0.002614</td>\n",
       "      <td>0.035778</td>\n",
       "    </tr>\n",
       "    <tr>\n",
       "      <th>3034</th>\n",
       "      <td>2021</td>\n",
       "      <td>4</td>\n",
       "      <td>California</td>\n",
       "      <td>Samsung</td>\n",
       "      <td>GALAXY S21</td>\n",
       "      <td>SAMSUNG GALAXY S21 PLUS</td>\n",
       "      <td>14</td>\n",
       "      <td>SAMSUNG GALAXY S20 PLUS</td>\n",
       "      <td>SAMSUNG GALAXY S22 PLUS</td>\n",
       "      <td>GALAXY S21 PLUS 5G 256GB BLACK</td>\n",
       "      <td>GXYS21P5G256BLK</td>\n",
       "      <td>GXYS21P5G256</td>\n",
       "      <td>Black</td>\n",
       "      <td>256</td>\n",
       "      <td>0.0</td>\n",
       "      <td>0.0</td>\n",
       "      <td>0.0</td>\n",
       "      <td>0.000000</td>\n",
       "      <td>0.027237</td>\n",
       "    </tr>\n",
       "  </tbody>\n",
       "</table>\n",
       "</div>"
      ],
      "text/plain": [
       "       year  month    us_state     make           phone_series  \\\n",
       "6615   2023      6      Nevada    Apple              IPHONE 12   \n",
       "9440   2023      5      Nevada    Apple              IPHONE XR   \n",
       "1549   2022     12       Texas     Oppo               OPPO A90   \n",
       "10717  2019      9      Nevada  Samsung  SAMSUNG GALAXY NOTE 9   \n",
       "3034   2021      4  California  Samsung             GALAXY S21   \n",
       "\n",
       "                  model_family  model_age_months              predecessor  \\\n",
       "6615   APPLE IPHONE 12 PRO MAX                31  APPLE IPHONE 11 PRO MAX   \n",
       "9440           APPLE IPHONE XR                55           APPLE IPHONE X   \n",
       "1549                  OPPO A94                21              First Model   \n",
       "10717    SAMSUNG GALAXY NOTE 9                13              First Model   \n",
       "3034   SAMSUNG GALAXY S21 PLUS                14  SAMSUNG GALAXY S20 PLUS   \n",
       "\n",
       "                     successor                                model  \\\n",
       "6615   APPLE IPHONE 13 PRO MAX  IPHONE 12 PRO MAX 5G 256GB GRAPHITE   \n",
       "9440           APPLE IPHONE 11                 IPHONE XR 64GB BLACK   \n",
       "1549                Last Model                     A94 128GB SILVER   \n",
       "10717               Last Model            GALAXY NOTE 9 128GB BLACK   \n",
       "3034   SAMSUNG GALAXY S22 PLUS       GALAXY S21 PLUS 5G 256GB BLACK   \n",
       "\n",
       "                    sku  sku_no_colour  colour  size  claims  ir_rate_swap  \\\n",
       "6615   IPH12PRM5G256GRY  IPH12PRM5G256    Gray   256     3.0           0.0   \n",
       "9440         IPHXR64BLK        IPHXR64   Black    64     0.0           0.0   \n",
       "1549          A94128SIL         A94128  Silver   128     0.0           0.0   \n",
       "10717       NOTE9128BLK       NOTE9128   Black   128    16.0           0.0   \n",
       "3034    GXYS21P5G256BLK   GXYS21P5G256   Black   256     0.0           0.0   \n",
       "\n",
       "       ir_rate_replacement  ir_rate_monthly  churn_rate  \n",
       "6615                   0.0         0.001585    0.049128  \n",
       "9440                   0.0         0.000000    0.055838  \n",
       "1549                   0.0         0.000000    0.073171  \n",
       "10717                  0.0         0.002614    0.035778  \n",
       "3034                   0.0         0.000000    0.027237  "
      ]
     },
     "execution_count": 59,
     "metadata": {},
     "output_type": "execute_result"
    }
   ],
   "source": [
    "from sklearn.model_selection import train_test_split\n",
    "\n",
    "features = ['year', 'month', 'us_state', 'make', 'phone_series',  'model_family','model_age_months', \n",
    "            'predecessor', 'successor', 'model', 'sku', 'sku_no_colour', 'colour', 'size', 'claims', \n",
    "            'ir_rate_swap', 'ir_rate_replacement', 'ir_rate_monthly', 'churn_rate'] # 19 features\n",
    "target = 'closing_subs_monthly'\n",
    "categorical_cols = [\"us_state\", \"make\", \"phone_series\", \"model_family\", \"colour\", \"size\"]\n",
    "\n",
    "X = df[features]\n",
    "y = df[target]\n",
    "\n",
    "X_train, X_test, y_train, y_test = train_test_split(\n",
    "        X, y, test_size=0.3, random_state=3244\n",
    "    )\n",
    "\n",
    "X_train.head()"
   ]
  },
  {
   "cell_type": "markdown",
   "metadata": {},
   "source": [
    "<br>\n",
    "\n",
    "---"
   ]
  },
  {
   "cell_type": "markdown",
   "metadata": {},
   "source": [
    "## Time series model: ARIMA (AutoRegressive Integrated Moving Average)"
   ]
  },
  {
   "cell_type": "markdown",
   "metadata": {},
   "source": [
    "Data preparation"
   ]
  },
  {
   "cell_type": "code",
   "execution_count": 60,
   "metadata": {},
   "outputs": [],
   "source": [
    "# Split the data into training and test sets\n",
    "train_data = df[df['year_month'] < '2023-01-01']  # Data up to January 2023\n",
    "test_data = df[df['year_month'] >= '2023-01-01']  # Data from January 2023 onwards"
   ]
  },
  {
   "cell_type": "code",
   "execution_count": 61,
   "metadata": {},
   "outputs": [
    {
     "data": {
      "text/plain": [
       "year_month\n",
       "2019-01-01    3450.818182\n",
       "2019-02-01    3600.375000\n",
       "2019-03-01    3922.367647\n",
       "2019-04-01    4268.375000\n",
       "2019-05-01    4317.015385\n",
       "Name: closing_subs_monthly, dtype: float64"
      ]
     },
     "execution_count": 61,
     "metadata": {},
     "output_type": "execute_result"
    }
   ],
   "source": [
    "# Sort by 'year' and 'month'\n",
    "train_data['year_month'] = pd.to_datetime(df[['year', 'month']].assign(day=1))\n",
    "\n",
    "# Group data by month (sum or average closing_subs_monthly)\n",
    "monthly_data = train_data.groupby('year_month')['closing_subs_monthly'].mean()\n",
    "monthly_data.head()"
   ]
  },
  {
   "cell_type": "code",
   "execution_count": 62,
   "metadata": {},
   "outputs": [
    {
     "data": {
      "image/png": "[encoded data removed]",
      "text/plain": [
       "<Figure size 800x500 with 1 Axes>"
      ]
     },
     "metadata": {},
     "output_type": "display_data"
    }
   ],
   "source": [
    "# Plot closing_subs_monthly VS Date\n",
    "plt.figure(figsize=(8, 5))\n",
    "monthly_data.plot()\n",
    "plt.title('Monthly Closing_subs')\n",
    "plt.xlabel('Date')\n",
    "plt.ylabel('closing_subs_monthly')\n",
    "plt.grid(True)\n",
    "plt.show()"
   ]
  },
  {
   "cell_type": "markdown",
   "metadata": {},
   "source": [
    "Overall, we observe that the number of closing subscriptions rises to a peak around July 2019 before subsequently declining."
   ]
  },
  {
   "cell_type": "code",
   "execution_count": 63,
   "metadata": {},
   "outputs": [
    {
     "name": "stdout",
     "output_type": "stream",
     "text": [
      "ADF Statistic: -2.2918725497026164\n",
      "p-value: 0.1746026361138598\n"
     ]
    }
   ],
   "source": [
    "from statsmodels.tsa.stattools import adfuller\n",
    "\n",
    "# Perform ADF test\n",
    "result = adfuller(monthly_data)\n",
    "print(f'ADF Statistic: {result[0]}')\n",
    "print(f'p-value: {result[1]}')\n",
    "\n",
    "# If p-value < 0.05, the series is stationary"
   ]
  },
  {
   "cell_type": "code",
   "execution_count": 64,
   "metadata": {},
   "outputs": [
    {
     "name": "stdout",
     "output_type": "stream",
     "text": [
      "ADF Statistic (Differenced): -4.425855757441596\n",
      "p-value (Differenced): 0.0002670718409043239\n"
     ]
    }
   ],
   "source": [
    "# Differencing the data to make it stationary\n",
    "monthly_data_diff = monthly_data.diff().dropna()\n",
    "\n",
    "# Check stationarity again\n",
    "result_diff = adfuller(monthly_data_diff)\n",
    "print(f'ADF Statistic (Differenced): {result_diff[0]}')\n",
    "print(f'p-value (Differenced): {result_diff[1]}')"
   ]
  },
  {
   "cell_type": "markdown",
   "metadata": {},
   "source": [
    "Now that the data is stationary, we can fit the ARIMA model."
   ]
  },
  {
   "cell_type": "code",
   "execution_count": 65,
   "metadata": {},
   "outputs": [],
   "source": [
    "from statsmodels.tsa.arima.model import ARIMA\n",
    "\n",
    "# Fit ARIMA model\n",
    "model = ARIMA(monthly_data, order=(5, 1, 0))  # p=5, d=1, q=0 (can fine tune)\n",
    "model_fit = model.fit()\n",
    "\n",
    "# Summarize the model\n",
    "# model_fit.summary()"
   ]
  },
  {
   "cell_type": "code",
   "execution_count": 66,
   "metadata": {},
   "outputs": [
    {
     "data": {
      "image/png": "[encoded data removed]",
      "text/plain": [
       "<Figure size 800x500 with 1 Axes>"
      ]
     },
     "metadata": {},
     "output_type": "display_data"
    }
   ],
   "source": [
    "# Forecast plot for the next 12 months\n",
    "forecast = model_fit.forecast(steps=12)\n",
    "\n",
    "# Plot the forecast\n",
    "plt.figure(figsize=(8, 5))\n",
    "plt.plot(monthly_data.index, monthly_data, label='Historical Data')\n",
    "plt.plot(pd.date_range(monthly_data.index[-1], periods=13, freq='M')[1:], forecast, label='Forecast', color='red')\n",
    "plt.title('Phone Device Demand Forecast')\n",
    "plt.xlabel('Date')\n",
    "plt.ylabel('closing_subs_monthly')\n",
    "plt.legend()\n",
    "plt.grid(True)\n",
    "plt.show()"
   ]
  },
  {
   "cell_type": "code",
   "execution_count": 67,
   "metadata": {},
   "outputs": [
    {
     "name": "stdout",
     "output_type": "stream",
     "text": [
      "MAE: 254.49312045145754\n",
      "RMSE: 279.6964493524239\n"
     ]
    }
   ],
   "source": [
    "from sklearn.metrics import mean_absolute_error, mean_squared_error\n",
    "import numpy as np\n",
    "\n",
    "forecast = model_fit.forecast(steps=11)\n",
    "test_data_output = test_data.groupby('year_month')['closing_subs_monthly'].mean()\n",
    "\n",
    "# Calculate Mean Absolute Error (MAE)\n",
    "mae = mean_absolute_error(test_data_output, forecast)\n",
    "\n",
    "# Calculate Root Mean Squared Error (RMSE)\n",
    "rmse = np.sqrt(mean_squared_error(test_data_output, forecast))\n",
    "\n",
    "# Print the results\n",
    "print(f'MAE: {mae}')\n",
    "print(f'RMSE: {rmse}')\n"
   ]
  },
  {
   "cell_type": "markdown",
   "metadata": {},
   "source": [
    "### Phone demand forcast for the next 2 months Dec 2023 and Jan 2025"
   ]
  },
  {
   "cell_type": "code",
   "execution_count": 68,
   "metadata": {},
   "outputs": [
    {
     "data": {
      "text/plain": [
       "year_month\n",
       "2019-01-01    3450.818182\n",
       "2019-02-01    3600.375000\n",
       "2019-03-01    3922.367647\n",
       "2019-04-01    4268.375000\n",
       "2019-05-01    4317.015385\n",
       "Name: closing_subs_monthly, dtype: float64"
      ]
     },
     "execution_count": 68,
     "metadata": {},
     "output_type": "execute_result"
    }
   ],
   "source": [
    "# Sort by 'year' and 'month'\n",
    "train_data = df.copy()\n",
    "train_data['year_month'] = pd.to_datetime(df[['year', 'month']].assign(day=1))\n",
    "\n",
    "# Group data by month (sum or average closing_subs_monthly)\n",
    "monthly_data = train_data.groupby('year_month')['closing_subs_monthly'].mean()\n",
    "monthly_data.head()"
   ]
  },
  {
   "cell_type": "code",
   "execution_count": 69,
   "metadata": {},
   "outputs": [
    {
     "name": "stdout",
     "output_type": "stream",
     "text": [
      "ADF Statistic: -2.9589083271651093\n",
      "p-value: 0.038914141278406124\n"
     ]
    }
   ],
   "source": [
    "from statsmodels.tsa.stattools import adfuller\n",
    "\n",
    "# Perform ADF test\n",
    "result = adfuller(monthly_data)\n",
    "print(f'ADF Statistic: {result[0]}')\n",
    "print(f'p-value: {result[1]}')\n",
    "\n",
    "# If p-value < 0.05, the series is stationary"
   ]
  },
  {
   "cell_type": "code",
   "execution_count": 70,
   "metadata": {},
   "outputs": [
    {
     "name": "stdout",
     "output_type": "stream",
     "text": [
      "ADF Statistic (Differenced): -5.286266281053599\n",
      "p-value (Differenced): 5.845965845277316e-06\n"
     ]
    }
   ],
   "source": [
    "# Differencing the data to make it stationary\n",
    "monthly_data_diff = monthly_data.diff().dropna()\n",
    "\n",
    "# Check stationarity again\n",
    "result_diff = adfuller(monthly_data_diff)\n",
    "print(f'ADF Statistic (Differenced): {result_diff[0]}')\n",
    "print(f'p-value (Differenced): {result_diff[1]}')"
   ]
  },
  {
   "cell_type": "code",
   "execution_count": 71,
   "metadata": {},
   "outputs": [
    {
     "name": "stdout",
     "output_type": "stream",
     "text": [
      "Future forecasted demand for Dec 2023 and Jan 2025: \n",
      "2023-12-01    1203.898602\n",
      "2024-01-01    1213.028720\n",
      "Freq: MS, Name: predicted_mean, dtype: float64\n"
     ]
    }
   ],
   "source": [
    "# Fit ARIMA model for all data in df\n",
    "model = ARIMA(monthly_data, order=(5, 1, 0))  # p=5, d=1, q=0 (can fine tune)\n",
    "model_fit = model.fit()\n",
    "\n",
    "future_forecast = model_fit.forecast(steps=2) \n",
    "print(f\"Future forecasted demand for Dec 2023 and Jan 2025: \\n{future_forecast}\")"
   ]
  },
  {
   "cell_type": "markdown",
   "metadata": {},
   "source": [
    "<br>\n",
    "\n",
    "---"
   ]
  },
  {
   "cell_type": "markdown",
   "metadata": {},
   "source": [
    "## RandomForestRegressor to predict closing_subs_monthly"
   ]
  },
  {
   "cell_type": "code",
   "execution_count": 72,
   "metadata": {},
   "outputs": [
    {
     "name": "stdout",
     "output_type": "stream",
     "text": [
      "Root Mean Squared Error (RMSE): 1870.7079620144557\n"
     ]
    }
   ],
   "source": [
    "from sklearn.preprocessing import OneHotEncoder\n",
    "from sklearn.compose import ColumnTransformer\n",
    "from sklearn.pipeline import Pipeline\n",
    "from sklearn.ensemble import RandomForestRegressor\n",
    "from sklearn.metrics import mean_squared_error\n",
    "import numpy as np\n",
    "\n",
    "\n",
    "# Define column transformer\n",
    "preprocessor = ColumnTransformer(\n",
    "    transformers=[\n",
    "        ('cat', OneHotEncoder(drop='first'), categorical_cols)  \n",
    "    ])\n",
    "\n",
    "# Define the model pipeline\n",
    "model_pipeline = Pipeline(steps=[\n",
    "    ('preprocessor', preprocessor),\n",
    "    ('regressor', RandomForestRegressor(n_estimators=100, random_state=42)) \n",
    "])\n",
    "\n",
    "# Model training\n",
    "model_pipeline.fit(X_train, y_train)\n",
    "\n",
    "# Predictions and evaluation\n",
    "y_pred = model_pipeline.predict(X_test)\n",
    "\n",
    "# Evaluate the model performance\n",
    "rmse = np.sqrt(mean_squared_error(y_test, y_pred))\n",
    "print(f'Root Mean Squared Error (RMSE): {rmse}')"
   ]
  },
  {
   "cell_type": "markdown",
   "metadata": {},
   "source": [
    "### Phone demand forcast for the next 2 months Dec 2023 and Jan 2025"
   ]
  },
  {
   "cell_type": "code",
   "execution_count": 73,
   "metadata": {},
   "outputs": [
    {
     "name": "stdout",
     "output_type": "stream",
     "text": [
      "Mean Squared Error: 3499548.2791442783\n",
      "Root Mean Squared Error (RMSE): 1870.7079620144557\n",
      "Predicted closing_subs_monthly for Dec 2023 and Jan 2024: [1199.25661648 1199.25661648]\n"
     ]
    }
   ],
   "source": [
    "# Create a DataFrame for the next 2 months\n",
    "future_months_data = pd.DataFrame({\n",
    "    'year': [2023, 2024],  # Next 2 months (2025)\n",
    "    'month': [12, 1],       # January and February\n",
    "    'us_state': ['California', 'California'],  # 2 values, one for each month\n",
    "    'make': ['Apple', 'Apple'],\n",
    "    'phone_series': ['IPHONE 12', 'IPHONE 12'],\n",
    "    'model_family': ['APPLE IPHONE 12 PRO MAX', 'APPLE IPHONE 12 PRO MAX'],\n",
    "    'colour': ['Gray', 'Gray'],\n",
    "    'size': [256, 256],\n",
    "    'model_age_months': [31, 31],\n",
    "    'predecessor': ['APPLE IPHONE 11 PRO MAX', 'APPLE IPHONE 11 PRO MAX'],\n",
    "    'successor': ['APPLE IPHONE 13 PRO MAX', 'APPLE IPHONE 13 PRO MAX'],\n",
    "    'model': ['IPHONE 12 PRO MAX 5G 256GB GRAPHITE', 'IPHONE 12 PRO MAX 5G 256GB GRAPHITE'],\n",
    "    'sku': ['IPH12PRM5G256GRY', 'IPH12PRM5G256GRY'],\n",
    "    'sku_no_colour': ['IPH12PRM5G256', 'IPH12PRM5G256'],\n",
    "    'claims': [3.0, 3.0],\n",
    "    'ir_rate_swap': [0.0, 0.0],\n",
    "    'ir_rate_replacement': [0.0, 0.0],\n",
    "    'ir_rate_monthly': [0.001585, 0.001585],\n",
    "    'churn_rate': [0.049128, 0.049128]\n",
    "})\n",
    "\n",
    "preprocessor = ColumnTransformer(\n",
    "    transformers=[\n",
    "        ('cat', OneHotEncoder(drop='first'), categorical_cols)  \n",
    "    ])\n",
    "\n",
    "model_pipeline = Pipeline(steps=[\n",
    "    ('preprocessor', preprocessor),\n",
    "    ('regressor', RandomForestRegressor(n_estimators=100, random_state=42))\n",
    "])\n",
    "\n",
    "model_pipeline.fit(X_train, y_train)\n",
    "\n",
    "# Predictions and evaluation\n",
    "y_pred = model_pipeline.predict(X_test)\n",
    "\n",
    "# Evaluate the model performance\n",
    "mse = mean_squared_error(y_test, y_pred)\n",
    "print(f'Mean Squared Error: {mse}')\n",
    "\n",
    "rmse = np.sqrt(mse)\n",
    "print(f'Root Mean Squared Error (RMSE): {rmse}')\n",
    "\n",
    "# Predict the closing_subs_monthly for the next 2 months\n",
    "future_predictions = model_pipeline.predict(future_months_data)\n",
    "\n",
    "# Display the predicted closing_subs_monthly for the next 2 months\n",
    "print(f'Predicted closing_subs_monthly for Dec 2023 and Jan 2024: {future_predictions}')\n"
   ]
  },
  {
   "cell_type": "markdown",
   "metadata": {},
   "source": [
    "<br>\n",
    "\n",
    "---"
   ]
  },
  {
   "cell_type": "markdown",
   "metadata": {},
   "source": [
    "## XGBoost\n",
    "\n",
    "XGBoost is an ensemble learning method that combines the predictions of multiple weak models (decision trees) to create a strong predictive model."
   ]
  },
  {
   "cell_type": "code",
   "execution_count": 74,
   "metadata": {},
   "outputs": [],
   "source": [
    "preprocessor = ColumnTransformer(\n",
    "    transformers=[\n",
    "        ('cat', OneHotEncoder(handle_unknown='ignore', sparse=False), categorical_cols)\n",
    "    ]\n",
    ")\n",
    "\n",
    "X_processed = preprocessor.fit_transform(X_train)"
   ]
  },
  {
   "cell_type": "markdown",
   "metadata": {},
   "source": [
    "Using GridSearch CV to find the best hyperparameters"
   ]
  },
  {
   "cell_type": "code",
   "execution_count": 75,
   "metadata": {},
   "outputs": [
    {
     "name": "stdout",
     "output_type": "stream",
     "text": [
      "Mean Squared Error: 3497814.339077712\n",
      "Fitting 5 folds for each of 243 candidates, totalling 1215 fits\n",
      "Best Hyperparameters: {'colsample_bytree': 1.0, 'learning_rate': 0.2, 'max_depth': 7, 'n_estimators': 200, 'subsample': 0.8}\n",
      "Mean Squared Error: 3502797.2223229036\n",
      "Root Mean Squared Error (RMSE): 1871.5761331890571\n"
     ]
    }
   ],
   "source": [
    "from sklearn.preprocessing import OneHotEncoder\n",
    "from sklearn.compose import ColumnTransformer\n",
    "import xgboost as xgb\n",
    "from sklearn.metrics import mean_squared_error\n",
    "from sklearn.model_selection import GridSearchCV\n",
    "import numpy as np\n",
    "\n",
    "# Define the column transformer with OneHotEncoder\n",
    "preprocessor = ColumnTransformer(\n",
    "    transformers=[\n",
    "        ('cat', OneHotEncoder(handle_unknown='ignore', sparse=False), categorical_cols)\n",
    "    ]\n",
    ")\n",
    "\n",
    "# Fit and transform the training data\n",
    "X_train_processed = preprocessor.fit_transform(X_train)\n",
    "\n",
    "# Create the XGBoost model\n",
    "model = xgb.XGBRegressor(objective='reg:squarederror', n_estimators=100, random_state=3244)\n",
    "\n",
    "# Fit the model to the training data\n",
    "model.fit(X_train_processed, y_train)\n",
    "\n",
    "# Evaluate the model on the test data (transforming the test data using the already fitted preprocessor)\n",
    "X_test_processed = preprocessor.transform(X_test)\n",
    "y_pred = model.predict(X_test_processed)\n",
    "\n",
    "# Evaluate the model\n",
    "mse = mean_squared_error(y_test, y_pred)\n",
    "print(f'Mean Squared Error: {mse}')\n",
    "\n",
    "# Hyperparameter tuning using GridSearchCV\n",
    "param_grid = {\n",
    "    'n_estimators': [50, 100, 200],\n",
    "    'max_depth': [3, 5, 7],\n",
    "    'learning_rate': [0.01, 0.1, 0.2],\n",
    "    'subsample': [0.8, 0.9, 1.0],\n",
    "    'colsample_bytree': [0.8, 0.9, 1.0],\n",
    "}\n",
    "\n",
    "# Create the GridSearchCV object\n",
    "grid_search = GridSearchCV(estimator=model, param_grid=param_grid, scoring='neg_mean_squared_error', cv=5, verbose=1, n_jobs=-1)\n",
    "\n",
    "# Fit the model to the training data\n",
    "grid_search.fit(X_train_processed, y_train)\n",
    "\n",
    "# Get the best parameters\n",
    "best_params = grid_search.best_params_\n",
    "print(f\"Best Hyperparameters: {best_params}\")\n",
    "\n",
    "# Use the best model found by GridSearchCV\n",
    "best_model = grid_search.best_estimator_\n",
    "\n",
    "# Evaluate the best model on the test data\n",
    "y_pred = best_model.predict(X_test_processed)\n",
    "\n",
    "# Evaluate the model performance\n",
    "mse = mean_squared_error(y_test, y_pred)\n",
    "print(f'Mean Squared Error: {mse}')\n",
    "\n",
    "rmse = np.sqrt(mse)\n",
    "print(f'Root Mean Squared Error (RMSE): {rmse}')\n"
   ]
  },
  {
   "cell_type": "markdown",
   "metadata": {},
   "source": [
    "### Phone demand forcast for the next 2 months Dec 2023 and Jan 2025"
   ]
  },
  {
   "cell_type": "code",
   "execution_count": 76,
   "metadata": {},
   "outputs": [
    {
     "name": "stdout",
     "output_type": "stream",
     "text": [
      "Predicted closing_subs_monthly for Dec 2023 and Jan 2024: [1202.2214 1202.2214]\n"
     ]
    }
   ],
   "source": [
    "# Ensure all categorical columns are included and consistent with the training data\n",
    "future_months_data_processed = preprocessor.transform(future_months_data)\n",
    "\n",
    "# Make predictions using the best model\n",
    "future_predictions = best_model.predict(future_months_data_processed)\n",
    "\n",
    "# Display the predicted closing_subs_monthly for the next 2 months\n",
    "print(f'Predicted closing_subs_monthly for Dec 2023 and Jan 2024: {future_predictions}')"
   ]
  },
  {
   "cell_type": "markdown",
   "metadata": {},
   "source": [
    "---\n",
    "\n",
    "<br>\n"
   ]
  },
  {
   "cell_type": "markdown",
   "metadata": {},
   "source": [
    "# Model Comparison"
   ]
  },
  {
   "cell_type": "markdown",
   "metadata": {},
   "source": [
    "### Predicted closing_subs_monthly for Dec 2023 and Jan 2024 for the 3 models are: \n",
    "ARIMA:\n",
    "- December 2023: 1203.90\n",
    "- January 2024: 1213.03\n",
    "\n",
    "Random Forest:\n",
    "- December 2023: 1199.26\n",
    "- January 2024: 1199.26 (constant prediction)\n",
    "\n",
    "XGBoost:\n",
    "- December 2023: 1202.22\n",
    "- January 2024: 1202.22 (constant prediction)\n",
    "\n",
    "**_Observations_**  \n",
    "ARIMA Model Trends:\n",
    "The ARIMA model predicts a gradual increase in closing subscriptions from December to January, suggesting a positive trend in subscriber growth during this period. The increase from approximately 1203.90 to 1213.03 indicates a potential seasonal effect or other influencing factors that may contribute to this growth.\n",
    "\n",
    "Random Forest Predictions:\n",
    "The Random Forest model predicts a consistent number of closing subscriptions for both months at approximately 1199.26. This lack of variation suggests that the model may not be capturing any seasonal trends or fluctuations effectively, which could indicate that it is overly simplistic for this dataset.\n",
    "\n",
    "XGBoost Predictions:\n",
    "Similar to the Random Forest model, XGBoost predicts a constant value of approximately 1202.22 for both months. This indicates stability in the predictions but may also suggest that the model is not responsive to changes or trends in the data during this time frame.\n",
    "\n",
    "Model Comparison:\n",
    "The ARIMA model appears to be the most responsive to changes in the data, predicting an increase in subscriptions, while both Random Forest and XGBoost provide stable predictions without any growth."
   ]
  },
  {
   "cell_type": "markdown",
   "metadata": {},
   "source": [
    "### Model Evaluation  \n",
    "- **ARIMA:**   \n",
    "MAE: 254.49  \n",
    "RMSE: 279.70    \n",
    "\n",
    "- **RandomForest:**   \n",
    "Mean Squared Error: 3499548.28    \n",
    "Root Mean Squared Error (RMSE): 1870.71   \n",
    "\n",
    "- **XGBoost:**  \n",
    "Mean Squared Error: 3502797.22  \n",
    "Root Mean Squared Error (RMSE): 1871.58  "
   ]
  }
 ],
 "metadata": {
  "kernelspec": {
   "display_name": "dev",
   "language": "python",
   "name": "python3"
  },
  "language_info": {
   "codemirror_mode": {
    "name": "ipython",
    "version": 3
   },
   "file_extension": ".py",
   "mimetype": "text/x-python",
   "name": "python",
   "nbconvert_exporter": "python",
   "pygments_lexer": "ipython3",
   "version": "3.10.14"
  }
 },
 "nbformat": 4,
 "nbformat_minor": 2
}
