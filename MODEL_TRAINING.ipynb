{
 "cells": [
  {
   "cell_type": "markdown",
   "metadata": {},
   "source": [
    "# Model Training"
   ]
  },
  {
   "cell_type": "markdown",
   "metadata": {},
   "source": [
    "## Table of Contents\n",
    "- Data Preparation\n",
    "- Modelling\n",
    "    - ARIMA\n",
    "    - Random Forest\n",
    "    - XGBoost\n",
    "- Comparison of Models\n",
    "- Results\n",
    "\n",
    "<br>\n",
    "\n",
    "---"
   ]
  },
  {
   "cell_type": "markdown",
   "metadata": {},
   "source": [
    "### Data preparation"
   ]
  },
  {
   "cell_type": "code",
   "execution_count": 30,
   "metadata": {},
   "outputs": [],
   "source": [
    "import pandas as pd\n",
    "import matplotlib.pyplot as plt\n",
    "\n",
    "df = pd.read_csv(\"data/cleaned_df_v2.csv\", index_col=False)\n",
    "df = df.iloc[: , 1:]\n",
    "\n",
    "# convert date\n",
    "df['year_month'] = pd.to_datetime(df['year_month'])\n",
    "df['year'] = df['year_month'].dt.year\n",
    "df['month'] = df['year_month'].dt.month"
   ]
  },
  {
   "cell_type": "code",
   "execution_count": 31,
   "metadata": {},
   "outputs": [
    {
     "data": {
      "text/html": [
       "<div>\n",
       "<style scoped>\n",
       "    .dataframe tbody tr th:only-of-type {\n",
       "        vertical-align: middle;\n",
       "    }\n",
       "\n",
       "    .dataframe tbody tr th {\n",
       "        vertical-align: top;\n",
       "    }\n",
       "\n",
       "    .dataframe thead th {\n",
       "        text-align: right;\n",
       "    }\n",
       "</style>\n",
       "<table border=\"1\" class=\"dataframe\">\n",
       "  <thead>\n",
       "    <tr style=\"text-align: right;\">\n",
       "      <th></th>\n",
       "      <th>year</th>\n",
       "      <th>month</th>\n",
       "      <th>us_state</th>\n",
       "      <th>make</th>\n",
       "      <th>phone_series</th>\n",
       "      <th>model_family</th>\n",
       "      <th>model_age_months</th>\n",
       "      <th>predecessor</th>\n",
       "      <th>successor</th>\n",
       "      <th>model</th>\n",
       "      <th>sku</th>\n",
       "      <th>sku_no_colour</th>\n",
       "      <th>colour</th>\n",
       "      <th>size</th>\n",
       "      <th>claims</th>\n",
       "      <th>ir_rate_swap</th>\n",
       "      <th>ir_rate_replacement</th>\n",
       "      <th>ir_rate_monthly</th>\n",
       "      <th>churn_rate</th>\n",
       "    </tr>\n",
       "  </thead>\n",
       "  <tbody>\n",
       "    <tr>\n",
       "      <th>6615</th>\n",
       "      <td>2023</td>\n",
       "      <td>6</td>\n",
       "      <td>Nevada</td>\n",
       "      <td>Apple</td>\n",
       "      <td>IPHONE 12</td>\n",
       "      <td>APPLE IPHONE 12 PRO MAX</td>\n",
       "      <td>31</td>\n",
       "      <td>APPLE IPHONE 11 PRO MAX</td>\n",
       "      <td>APPLE IPHONE 13 PRO MAX</td>\n",
       "      <td>IPHONE 12 PRO MAX 5G 256GB GRAPHITE</td>\n",
       "      <td>IPH12PRM5G256GRY</td>\n",
       "      <td>IPH12PRM5G256</td>\n",
       "      <td>Gray</td>\n",
       "      <td>256</td>\n",
       "      <td>3.0</td>\n",
       "      <td>0.0</td>\n",
       "      <td>0.0</td>\n",
       "      <td>0.001585</td>\n",
       "      <td>0.049128</td>\n",
       "    </tr>\n",
       "    <tr>\n",
       "      <th>9440</th>\n",
       "      <td>2023</td>\n",
       "      <td>5</td>\n",
       "      <td>Nevada</td>\n",
       "      <td>Apple</td>\n",
       "      <td>IPHONE XR</td>\n",
       "      <td>APPLE IPHONE XR</td>\n",
       "      <td>55</td>\n",
       "      <td>APPLE IPHONE X</td>\n",
       "      <td>APPLE IPHONE 11</td>\n",
       "      <td>IPHONE XR 64GB BLACK</td>\n",
       "      <td>IPHXR64BLK</td>\n",
       "      <td>IPHXR64</td>\n",
       "      <td>Black</td>\n",
       "      <td>64</td>\n",
       "      <td>0.0</td>\n",
       "      <td>0.0</td>\n",
       "      <td>0.0</td>\n",
       "      <td>0.000000</td>\n",
       "      <td>0.055838</td>\n",
       "    </tr>\n",
       "    <tr>\n",
       "      <th>1549</th>\n",
       "      <td>2022</td>\n",
       "      <td>12</td>\n",
       "      <td>Texas</td>\n",
       "      <td>Oppo</td>\n",
       "      <td>OPPO A90</td>\n",
       "      <td>OPPO A94</td>\n",
       "      <td>21</td>\n",
       "      <td>First Model</td>\n",
       "      <td>Last Model</td>\n",
       "      <td>A94 128GB SILVER</td>\n",
       "      <td>A94128SIL</td>\n",
       "      <td>A94128</td>\n",
       "      <td>Silver</td>\n",
       "      <td>128</td>\n",
       "      <td>0.0</td>\n",
       "      <td>0.0</td>\n",
       "      <td>0.0</td>\n",
       "      <td>0.000000</td>\n",
       "      <td>0.073171</td>\n",
       "    </tr>\n",
       "    <tr>\n",
       "      <th>10717</th>\n",
       "      <td>2019</td>\n",
       "      <td>9</td>\n",
       "      <td>Nevada</td>\n",
       "      <td>Samsung</td>\n",
       "      <td>SAMSUNG GALAXY NOTE 9</td>\n",
       "      <td>SAMSUNG GALAXY NOTE 9</td>\n",
       "      <td>13</td>\n",
       "      <td>First Model</td>\n",
       "      <td>Last Model</td>\n",
       "      <td>GALAXY NOTE 9 128GB BLACK</td>\n",
       "      <td>NOTE9128BLK</td>\n",
       "      <td>NOTE9128</td>\n",
       "      <td>Black</td>\n",
       "      <td>128</td>\n",
       "      <td>16.0</td>\n",
       "      <td>0.0</td>\n",
       "      <td>0.0</td>\n",
       "      <td>0.002614</td>\n",
       "      <td>0.035778</td>\n",
       "    </tr>\n",
       "    <tr>\n",
       "      <th>3034</th>\n",
       "      <td>2021</td>\n",
       "      <td>4</td>\n",
       "      <td>California</td>\n",
       "      <td>Samsung</td>\n",
       "      <td>GALAXY S21</td>\n",
       "      <td>SAMSUNG GALAXY S21 PLUS</td>\n",
       "      <td>14</td>\n",
       "      <td>SAMSUNG GALAXY S20 PLUS</td>\n",
       "      <td>SAMSUNG GALAXY S22 PLUS</td>\n",
       "      <td>GALAXY S21 PLUS 5G 256GB BLACK</td>\n",
       "      <td>GXYS21P5G256BLK</td>\n",
       "      <td>GXYS21P5G256</td>\n",
       "      <td>Black</td>\n",
       "      <td>256</td>\n",
       "      <td>0.0</td>\n",
       "      <td>0.0</td>\n",
       "      <td>0.0</td>\n",
       "      <td>0.000000</td>\n",
       "      <td>0.027237</td>\n",
       "    </tr>\n",
       "  </tbody>\n",
       "</table>\n",
       "</div>"
      ],
      "text/plain": [
       "       year  month    us_state     make           phone_series  \\\n",
       "6615   2023      6      Nevada    Apple              IPHONE 12   \n",
       "9440   2023      5      Nevada    Apple              IPHONE XR   \n",
       "1549   2022     12       Texas     Oppo               OPPO A90   \n",
       "10717  2019      9      Nevada  Samsung  SAMSUNG GALAXY NOTE 9   \n",
       "3034   2021      4  California  Samsung             GALAXY S21   \n",
       "\n",
       "                  model_family  model_age_months              predecessor  \\\n",
       "6615   APPLE IPHONE 12 PRO MAX                31  APPLE IPHONE 11 PRO MAX   \n",
       "9440           APPLE IPHONE XR                55           APPLE IPHONE X   \n",
       "1549                  OPPO A94                21              First Model   \n",
       "10717    SAMSUNG GALAXY NOTE 9                13              First Model   \n",
       "3034   SAMSUNG GALAXY S21 PLUS                14  SAMSUNG GALAXY S20 PLUS   \n",
       "\n",
       "                     successor                                model  \\\n",
       "6615   APPLE IPHONE 13 PRO MAX  IPHONE 12 PRO MAX 5G 256GB GRAPHITE   \n",
       "9440           APPLE IPHONE 11                 IPHONE XR 64GB BLACK   \n",
       "1549                Last Model                     A94 128GB SILVER   \n",
       "10717               Last Model            GALAXY NOTE 9 128GB BLACK   \n",
       "3034   SAMSUNG GALAXY S22 PLUS       GALAXY S21 PLUS 5G 256GB BLACK   \n",
       "\n",
       "                    sku  sku_no_colour  colour  size  claims  ir_rate_swap  \\\n",
       "6615   IPH12PRM5G256GRY  IPH12PRM5G256    Gray   256     3.0           0.0   \n",
       "9440         IPHXR64BLK        IPHXR64   Black    64     0.0           0.0   \n",
       "1549          A94128SIL         A94128  Silver   128     0.0           0.0   \n",
       "10717       NOTE9128BLK       NOTE9128   Black   128    16.0           0.0   \n",
       "3034    GXYS21P5G256BLK   GXYS21P5G256   Black   256     0.0           0.0   \n",
       "\n",
       "       ir_rate_replacement  ir_rate_monthly  churn_rate  \n",
       "6615                   0.0         0.001585    0.049128  \n",
       "9440                   0.0         0.000000    0.055838  \n",
       "1549                   0.0         0.000000    0.073171  \n",
       "10717                  0.0         0.002614    0.035778  \n",
       "3034                   0.0         0.000000    0.027237  "
      ]
     },
     "execution_count": 31,
     "metadata": {},
     "output_type": "execute_result"
    }
   ],
   "source": [
    "from sklearn.model_selection import train_test_split\n",
    "\n",
    "features = ['year', 'month', 'us_state', 'make', 'phone_series',  'model_family','model_age_months', \n",
    "            'predecessor', 'successor', 'model', 'sku', 'sku_no_colour', 'colour', 'size', 'claims', \n",
    "            'ir_rate_swap', 'ir_rate_replacement', 'ir_rate_monthly', 'churn_rate'] # 19 features\n",
    "target = 'closing_subs_monthly'\n",
    "categorical_cols = [\"us_state\", \"make\", \"phone_series\", \"model_family\", \"colour\", \"size\"]\n",
    "\n",
    "X = df[features]\n",
    "y = df[target]\n",
    "\n",
    "X_train, X_test, y_train, y_test = train_test_split(\n",
    "        X, y, test_size=0.3, random_state=3244\n",
    "    )\n",
    "\n",
    "X_train.head()"
   ]
  },
  {
   "cell_type": "markdown",
   "metadata": {},
   "source": [
    "<br>\n",
    "\n",
    "---"
   ]
  },
  {
   "cell_type": "markdown",
   "metadata": {},
   "source": [
    "## Time series model: ARIMA (AutoRegressive Integrated Moving Average) model"
   ]
  },
  {
   "cell_type": "markdown",
   "metadata": {},
   "source": [
    "Data preparation"
   ]
  },
  {
   "cell_type": "code",
   "execution_count": null,
   "metadata": {},
   "outputs": [],
   "source": [
    "# Split the data into training and test sets\n",
    "train_data = df[df['year_month'] < '2023-01-01']  # Data up to January 2023\n",
    "test_data = df[df['year_month'] >= '2023-01-01']  # Data from January 2023 onwards"
   ]
  },
  {
   "cell_type": "code",
   "execution_count": 33,
   "metadata": {},
   "outputs": [
    {
     "data": {
      "text/html": [
       "<div>\n",
       "<style scoped>\n",
       "    .dataframe tbody tr th:only-of-type {\n",
       "        vertical-align: middle;\n",
       "    }\n",
       "\n",
       "    .dataframe tbody tr th {\n",
       "        vertical-align: top;\n",
       "    }\n",
       "\n",
       "    .dataframe thead th {\n",
       "        text-align: right;\n",
       "    }\n",
       "</style>\n",
       "<table border=\"1\" class=\"dataframe\">\n",
       "  <thead>\n",
       "    <tr style=\"text-align: right;\">\n",
       "      <th></th>\n",
       "      <th>year_month</th>\n",
       "      <th>us_state</th>\n",
       "      <th>make</th>\n",
       "      <th>phone_series</th>\n",
       "      <th>model_family</th>\n",
       "      <th>predecessor</th>\n",
       "      <th>successor</th>\n",
       "      <th>model_age_months</th>\n",
       "      <th>model</th>\n",
       "      <th>sku</th>\n",
       "      <th>...</th>\n",
       "      <th>size</th>\n",
       "      <th>closing_subs_monthly</th>\n",
       "      <th>claims</th>\n",
       "      <th>ir_rate_swap</th>\n",
       "      <th>ir_rate_replacement</th>\n",
       "      <th>ir_rate_monthly</th>\n",
       "      <th>churn_rate</th>\n",
       "      <th>churn</th>\n",
       "      <th>year</th>\n",
       "      <th>month</th>\n",
       "    </tr>\n",
       "  </thead>\n",
       "  <tbody>\n",
       "    <tr>\n",
       "      <th>0</th>\n",
       "      <td>2019-01-01</td>\n",
       "      <td>California</td>\n",
       "      <td>Oppo</td>\n",
       "      <td>OPPO A10</td>\n",
       "      <td>OPPO A12</td>\n",
       "      <td>First Model</td>\n",
       "      <td>OPPO A15</td>\n",
       "      <td>14</td>\n",
       "      <td>A12 32GB BLUE</td>\n",
       "      <td>A12BLU</td>\n",
       "      <td>...</td>\n",
       "      <td>32</td>\n",
       "      <td>137</td>\n",
       "      <td>0.0</td>\n",
       "      <td>0.0</td>\n",
       "      <td>0.0</td>\n",
       "      <td>0.0</td>\n",
       "      <td>0.0</td>\n",
       "      <td>0</td>\n",
       "      <td>2019</td>\n",
       "      <td>1</td>\n",
       "    </tr>\n",
       "    <tr>\n",
       "      <th>1</th>\n",
       "      <td>2019-02-01</td>\n",
       "      <td>California</td>\n",
       "      <td>Oppo</td>\n",
       "      <td>OPPO A10</td>\n",
       "      <td>OPPO A12</td>\n",
       "      <td>First Model</td>\n",
       "      <td>OPPO A15</td>\n",
       "      <td>15</td>\n",
       "      <td>A12 32GB BLUE</td>\n",
       "      <td>A12BLU</td>\n",
       "      <td>...</td>\n",
       "      <td>32</td>\n",
       "      <td>152</td>\n",
       "      <td>0.0</td>\n",
       "      <td>0.0</td>\n",
       "      <td>0.0</td>\n",
       "      <td>0.0</td>\n",
       "      <td>0.0</td>\n",
       "      <td>0</td>\n",
       "      <td>2019</td>\n",
       "      <td>2</td>\n",
       "    </tr>\n",
       "    <tr>\n",
       "      <th>2</th>\n",
       "      <td>2019-03-01</td>\n",
       "      <td>California</td>\n",
       "      <td>Oppo</td>\n",
       "      <td>OPPO A10</td>\n",
       "      <td>OPPO A12</td>\n",
       "      <td>First Model</td>\n",
       "      <td>OPPO A15</td>\n",
       "      <td>16</td>\n",
       "      <td>A12 32GB BLUE</td>\n",
       "      <td>A12BLU</td>\n",
       "      <td>...</td>\n",
       "      <td>32</td>\n",
       "      <td>162</td>\n",
       "      <td>0.0</td>\n",
       "      <td>0.0</td>\n",
       "      <td>0.0</td>\n",
       "      <td>0.0</td>\n",
       "      <td>0.0</td>\n",
       "      <td>0</td>\n",
       "      <td>2019</td>\n",
       "      <td>3</td>\n",
       "    </tr>\n",
       "    <tr>\n",
       "      <th>3</th>\n",
       "      <td>2019-04-01</td>\n",
       "      <td>California</td>\n",
       "      <td>Oppo</td>\n",
       "      <td>OPPO A10</td>\n",
       "      <td>OPPO A12</td>\n",
       "      <td>First Model</td>\n",
       "      <td>OPPO A15</td>\n",
       "      <td>17</td>\n",
       "      <td>A12 32GB BLUE</td>\n",
       "      <td>A12BLU</td>\n",
       "      <td>...</td>\n",
       "      <td>32</td>\n",
       "      <td>173</td>\n",
       "      <td>0.0</td>\n",
       "      <td>0.0</td>\n",
       "      <td>0.0</td>\n",
       "      <td>0.0</td>\n",
       "      <td>0.0</td>\n",
       "      <td>0</td>\n",
       "      <td>2019</td>\n",
       "      <td>4</td>\n",
       "    </tr>\n",
       "    <tr>\n",
       "      <th>4</th>\n",
       "      <td>2019-05-01</td>\n",
       "      <td>California</td>\n",
       "      <td>Oppo</td>\n",
       "      <td>OPPO A10</td>\n",
       "      <td>OPPO A12</td>\n",
       "      <td>First Model</td>\n",
       "      <td>OPPO A15</td>\n",
       "      <td>18</td>\n",
       "      <td>A12 32GB BLUE</td>\n",
       "      <td>A12BLU</td>\n",
       "      <td>...</td>\n",
       "      <td>32</td>\n",
       "      <td>179</td>\n",
       "      <td>0.0</td>\n",
       "      <td>0.0</td>\n",
       "      <td>0.0</td>\n",
       "      <td>0.0</td>\n",
       "      <td>0.0</td>\n",
       "      <td>0</td>\n",
       "      <td>2019</td>\n",
       "      <td>5</td>\n",
       "    </tr>\n",
       "  </tbody>\n",
       "</table>\n",
       "<p>5 rows × 22 columns</p>\n",
       "</div>"
      ],
      "text/plain": [
       "  year_month    us_state  make phone_series model_family  predecessor  \\\n",
       "0 2019-01-01  California  Oppo     OPPO A10     OPPO A12  First Model   \n",
       "1 2019-02-01  California  Oppo     OPPO A10     OPPO A12  First Model   \n",
       "2 2019-03-01  California  Oppo     OPPO A10     OPPO A12  First Model   \n",
       "3 2019-04-01  California  Oppo     OPPO A10     OPPO A12  First Model   \n",
       "4 2019-05-01  California  Oppo     OPPO A10     OPPO A12  First Model   \n",
       "\n",
       "  successor  model_age_months          model     sku  ... size  \\\n",
       "0  OPPO A15                14  A12 32GB BLUE  A12BLU  ...   32   \n",
       "1  OPPO A15                15  A12 32GB BLUE  A12BLU  ...   32   \n",
       "2  OPPO A15                16  A12 32GB BLUE  A12BLU  ...   32   \n",
       "3  OPPO A15                17  A12 32GB BLUE  A12BLU  ...   32   \n",
       "4  OPPO A15                18  A12 32GB BLUE  A12BLU  ...   32   \n",
       "\n",
       "  closing_subs_monthly  claims  ir_rate_swap  ir_rate_replacement  \\\n",
       "0                  137     0.0           0.0                  0.0   \n",
       "1                  152     0.0           0.0                  0.0   \n",
       "2                  162     0.0           0.0                  0.0   \n",
       "3                  173     0.0           0.0                  0.0   \n",
       "4                  179     0.0           0.0                  0.0   \n",
       "\n",
       "   ir_rate_monthly  churn_rate  churn  year  month  \n",
       "0              0.0         0.0      0  2019      1  \n",
       "1              0.0         0.0      0  2019      2  \n",
       "2              0.0         0.0      0  2019      3  \n",
       "3              0.0         0.0      0  2019      4  \n",
       "4              0.0         0.0      0  2019      5  \n",
       "\n",
       "[5 rows x 22 columns]"
      ]
     },
     "execution_count": 33,
     "metadata": {},
     "output_type": "execute_result"
    }
   ],
   "source": [
    "train_data.head()"
   ]
  },
  {
   "cell_type": "code",
   "execution_count": 34,
   "metadata": {},
   "outputs": [
    {
     "data": {
      "text/plain": [
       "year_month\n",
       "2019-01-01    189795\n",
       "2019-02-01    201621\n",
       "2019-03-01    266721\n",
       "2019-04-01    273176\n",
       "2019-05-01    280606\n",
       "Name: closing_subs_monthly, dtype: int64"
      ]
     },
     "execution_count": 34,
     "metadata": {},
     "output_type": "execute_result"
    }
   ],
   "source": [
    "# Sort by 'year' and 'month'\n",
    "df['year_month'] = pd.to_datetime(df[['year', 'month']].assign(day=1))\n",
    "\n",
    "# Group data by month (sum or average closing_subs_monthly)\n",
    "monthly_data = df.groupby('year_month')['closing_subs_monthly'].sum()\n",
    "monthly_data.head()"
   ]
  },
  {
   "cell_type": "code",
   "execution_count": 35,
   "metadata": {},
   "outputs": [
    {
     "data": {
      "image/png": "[encoded data removed]",
      "text/plain": [
       "<Figure size 1000x600 with 1 Axes>"
      ]
     },
     "metadata": {},
     "output_type": "display_data"
    }
   ],
   "source": [
    "# Plot closing_subs_monthly VS Date\n",
    "plt.figure(figsize=(10, 6))\n",
    "monthly_data.plot()\n",
    "plt.title('Monthly Closing_subs')\n",
    "plt.xlabel('Date')\n",
    "plt.ylabel('closing_subs_monthly')\n",
    "plt.grid(True)\n",
    "plt.show()"
   ]
  },
  {
   "cell_type": "markdown",
   "metadata": {},
   "source": [
    "Overall, we see that the number of closing subs increases to a peak around the 3 quearter of 2021, then decreases."
   ]
  },
  {
   "cell_type": "code",
   "execution_count": 36,
   "metadata": {},
   "outputs": [
    {
     "name": "stdout",
     "output_type": "stream",
     "text": [
      "ADF Statistic: -1.4271882144171455\n",
      "p-value: 0.5691745925645393\n"
     ]
    }
   ],
   "source": [
    "from statsmodels.tsa.stattools import adfuller\n",
    "\n",
    "# Perform ADF test\n",
    "result = adfuller(monthly_data)\n",
    "print(f'ADF Statistic: {result[0]}')\n",
    "print(f'p-value: {result[1]}')\n",
    "\n",
    "# If p-value < 0.05, the series is stationary"
   ]
  },
  {
   "cell_type": "code",
   "execution_count": 37,
   "metadata": {},
   "outputs": [
    {
     "name": "stdout",
     "output_type": "stream",
     "text": [
      "ADF Statistic (Differenced): -4.737434971528249\n",
      "p-value (Differenced): 7.153232399295313e-05\n"
     ]
    }
   ],
   "source": [
    "# Differencing the data to make it stationary\n",
    "monthly_data_diff = monthly_data.diff().dropna()\n",
    "\n",
    "# Check stationarity again\n",
    "result_diff = adfuller(monthly_data_diff)\n",
    "print(f'ADF Statistic (Differenced): {result_diff[0]}')\n",
    "print(f'p-value (Differenced): {result_diff[1]}')"
   ]
  },
  {
   "cell_type": "markdown",
   "metadata": {},
   "source": [
    "Now that the data is stationary (or made stationary), we can fit an ARIMA model."
   ]
  },
  {
   "cell_type": "code",
   "execution_count": 38,
   "metadata": {},
   "outputs": [
    {
     "name": "stderr",
     "output_type": "stream",
     "text": [
      "/Users/carlychinsekyi/miniconda3/envs/dev/lib/python3.10/site-packages/statsmodels/tsa/base/tsa_model.py:473: ValueWarning: No frequency information was provided, so inferred frequency MS will be used.\n",
      "  self._init_dates(dates, freq)\n",
      "/Users/carlychinsekyi/miniconda3/envs/dev/lib/python3.10/site-packages/statsmodels/tsa/base/tsa_model.py:473: ValueWarning: No frequency information was provided, so inferred frequency MS will be used.\n",
      "  self._init_dates(dates, freq)\n",
      "/Users/carlychinsekyi/miniconda3/envs/dev/lib/python3.10/site-packages/statsmodels/tsa/base/tsa_model.py:473: ValueWarning: No frequency information was provided, so inferred frequency MS will be used.\n",
      "  self._init_dates(dates, freq)\n"
     ]
    },
    {
     "data": {
      "text/html": [
       "<table class=\"simpletable\">\n",
       "<caption>SARIMAX Results</caption>\n",
       "<tr>\n",
       "  <th>Dep. Variable:</th>   <td>closing_subs_monthly</td> <th>  No. Observations:  </th>    <td>59</td>   \n",
       "</tr>\n",
       "<tr>\n",
       "  <th>Model:</th>              <td>ARIMA(5, 1, 0)</td>    <th>  Log Likelihood     </th> <td>-627.987</td>\n",
       "</tr>\n",
       "<tr>\n",
       "  <th>Date:</th>              <td>Thu, 19 Dec 2024</td>   <th>  AIC                </th> <td>1267.974</td>\n",
       "</tr>\n",
       "<tr>\n",
       "  <th>Time:</th>                  <td>16:08:31</td>       <th>  BIC                </th> <td>1280.337</td>\n",
       "</tr>\n",
       "<tr>\n",
       "  <th>Sample:</th>               <td>01-01-2019</td>      <th>  HQIC               </th> <td>1272.790</td>\n",
       "</tr>\n",
       "<tr>\n",
       "  <th></th>                     <td>- 11-01-2023</td>     <th>                     </th>     <td> </td>   \n",
       "</tr>\n",
       "<tr>\n",
       "  <th>Covariance Type:</th>          <td>opg</td>         <th>                     </th>     <td> </td>   \n",
       "</tr>\n",
       "</table>\n",
       "<table class=\"simpletable\">\n",
       "<tr>\n",
       "     <td></td>       <th>coef</th>     <th>std err</th>      <th>z</th>      <th>P>|z|</th>  <th>[0.025</th>    <th>0.975]</th>  \n",
       "</tr>\n",
       "<tr>\n",
       "  <th>ar.L1</th>  <td>    0.0733</td> <td>    0.103</td> <td>    0.712</td> <td> 0.476</td> <td>   -0.128</td> <td>    0.275</td>\n",
       "</tr>\n",
       "<tr>\n",
       "  <th>ar.L2</th>  <td>    0.3256</td> <td>    0.088</td> <td>    3.695</td> <td> 0.000</td> <td>    0.153</td> <td>    0.498</td>\n",
       "</tr>\n",
       "<tr>\n",
       "  <th>ar.L3</th>  <td>   -0.0122</td> <td>    0.269</td> <td>   -0.045</td> <td> 0.964</td> <td>   -0.540</td> <td>    0.516</td>\n",
       "</tr>\n",
       "<tr>\n",
       "  <th>ar.L4</th>  <td>   -0.0311</td> <td>    0.089</td> <td>   -0.348</td> <td> 0.728</td> <td>   -0.206</td> <td>    0.144</td>\n",
       "</tr>\n",
       "<tr>\n",
       "  <th>ar.L5</th>  <td>    0.0581</td> <td>    0.189</td> <td>    0.308</td> <td> 0.758</td> <td>   -0.311</td> <td>    0.428</td>\n",
       "</tr>\n",
       "<tr>\n",
       "  <th>sigma2</th> <td> 1.423e+08</td> <td> 4.65e-09</td> <td> 3.06e+16</td> <td> 0.000</td> <td> 1.42e+08</td> <td> 1.42e+08</td>\n",
       "</tr>\n",
       "</table>\n",
       "<table class=\"simpletable\">\n",
       "<tr>\n",
       "  <th>Ljung-Box (L1) (Q):</th>     <td>2.75</td> <th>  Jarque-Bera (JB):  </th> <td>2050.06</td>\n",
       "</tr>\n",
       "<tr>\n",
       "  <th>Prob(Q):</th>                <td>0.10</td> <th>  Prob(JB):          </th>  <td>0.00</td>  \n",
       "</tr>\n",
       "<tr>\n",
       "  <th>Heteroskedasticity (H):</th> <td>0.11</td> <th>  Skew:              </th>  <td>4.62</td>  \n",
       "</tr>\n",
       "<tr>\n",
       "  <th>Prob(H) (two-sided):</th>    <td>0.00</td> <th>  Kurtosis:          </th>  <td>30.62</td> \n",
       "</tr>\n",
       "</table><br/><br/>Warnings:<br/>[1] Covariance matrix calculated using the outer product of gradients (complex-step).<br/>[2] Covariance matrix is singular or near-singular, with condition number 8.46e+31. Standard errors may be unstable."
      ],
      "text/latex": [
       "\\begin{center}\n",
       "\\begin{tabular}{lclc}\n",
       "\\toprule\n",
       "\\textbf{Dep. Variable:}          & closing\\_subs\\_monthly & \\textbf{  No. Observations:  } &     59      \\\\\n",
       "\\textbf{Model:}                  &     ARIMA(5, 1, 0)     & \\textbf{  Log Likelihood     } &  -627.987   \\\\\n",
       "\\textbf{Date:}                   &    Thu, 19 Dec 2024    & \\textbf{  AIC                } &  1267.974   \\\\\n",
       "\\textbf{Time:}                   &        16:08:31        & \\textbf{  BIC                } &  1280.337   \\\\\n",
       "\\textbf{Sample:}                 &       01-01-2019       & \\textbf{  HQIC               } &  1272.790   \\\\\n",
       "\\textbf{}                        &      - 11-01-2023      & \\textbf{                     } &             \\\\\n",
       "\\textbf{Covariance Type:}        &          opg           & \\textbf{                     } &             \\\\\n",
       "\\bottomrule\n",
       "\\end{tabular}\n",
       "\\begin{tabular}{lcccccc}\n",
       "                & \\textbf{coef} & \\textbf{std err} & \\textbf{z} & \\textbf{P$> |$z$|$} & \\textbf{[0.025} & \\textbf{0.975]}  \\\\\n",
       "\\midrule\n",
       "\\textbf{ar.L1}  &       0.0733  &        0.103     &     0.712  &         0.476        &       -0.128    &        0.275     \\\\\n",
       "\\textbf{ar.L2}  &       0.3256  &        0.088     &     3.695  &         0.000        &        0.153    &        0.498     \\\\\n",
       "\\textbf{ar.L3}  &      -0.0122  &        0.269     &    -0.045  &         0.964        &       -0.540    &        0.516     \\\\\n",
       "\\textbf{ar.L4}  &      -0.0311  &        0.089     &    -0.348  &         0.728        &       -0.206    &        0.144     \\\\\n",
       "\\textbf{ar.L5}  &       0.0581  &        0.189     &     0.308  &         0.758        &       -0.311    &        0.428     \\\\\n",
       "\\textbf{sigma2} &    1.423e+08  &     4.65e-09     &  3.06e+16  &         0.000        &     1.42e+08    &     1.42e+08     \\\\\n",
       "\\bottomrule\n",
       "\\end{tabular}\n",
       "\\begin{tabular}{lclc}\n",
       "\\textbf{Ljung-Box (L1) (Q):}     & 2.75 & \\textbf{  Jarque-Bera (JB):  } & 2050.06  \\\\\n",
       "\\textbf{Prob(Q):}                & 0.10 & \\textbf{  Prob(JB):          } &   0.00   \\\\\n",
       "\\textbf{Heteroskedasticity (H):} & 0.11 & \\textbf{  Skew:              } &   4.62   \\\\\n",
       "\\textbf{Prob(H) (two-sided):}    & 0.00 & \\textbf{  Kurtosis:          } &  30.62   \\\\\n",
       "\\bottomrule\n",
       "\\end{tabular}\n",
       "%\\caption{SARIMAX Results}\n",
       "\\end{center}\n",
       "\n",
       "Warnings: \\newline\n",
       " [1] Covariance matrix calculated using the outer product of gradients (complex-step). \\newline\n",
       " [2] Covariance matrix is singular or near-singular, with condition number 8.46e+31. Standard errors may be unstable."
      ],
      "text/plain": [
       "<class 'statsmodels.iolib.summary.Summary'>\n",
       "\"\"\"\n",
       "                                SARIMAX Results                                 \n",
       "================================================================================\n",
       "Dep. Variable:     closing_subs_monthly   No. Observations:                   59\n",
       "Model:                   ARIMA(5, 1, 0)   Log Likelihood                -627.987\n",
       "Date:                  Thu, 19 Dec 2024   AIC                           1267.974\n",
       "Time:                          16:08:31   BIC                           1280.337\n",
       "Sample:                      01-01-2019   HQIC                          1272.790\n",
       "                           - 11-01-2023                                         \n",
       "Covariance Type:                    opg                                         \n",
       "==============================================================================\n",
       "                 coef    std err          z      P>|z|      [0.025      0.975]\n",
       "------------------------------------------------------------------------------\n",
       "ar.L1          0.0733      0.103      0.712      0.476      -0.128       0.275\n",
       "ar.L2          0.3256      0.088      3.695      0.000       0.153       0.498\n",
       "ar.L3         -0.0122      0.269     -0.045      0.964      -0.540       0.516\n",
       "ar.L4         -0.0311      0.089     -0.348      0.728      -0.206       0.144\n",
       "ar.L5          0.0581      0.189      0.308      0.758      -0.311       0.428\n",
       "sigma2      1.423e+08   4.65e-09   3.06e+16      0.000    1.42e+08    1.42e+08\n",
       "===================================================================================\n",
       "Ljung-Box (L1) (Q):                   2.75   Jarque-Bera (JB):              2050.06\n",
       "Prob(Q):                              0.10   Prob(JB):                         0.00\n",
       "Heteroskedasticity (H):               0.11   Skew:                             4.62\n",
       "Prob(H) (two-sided):                  0.00   Kurtosis:                        30.62\n",
       "===================================================================================\n",
       "\n",
       "Warnings:\n",
       "[1] Covariance matrix calculated using the outer product of gradients (complex-step).\n",
       "[2] Covariance matrix is singular or near-singular, with condition number 8.46e+31. Standard errors may be unstable.\n",
       "\"\"\""
      ]
     },
     "execution_count": 38,
     "metadata": {},
     "output_type": "execute_result"
    }
   ],
   "source": [
    "from statsmodels.tsa.arima.model import ARIMA\n",
    "\n",
    "# Fit ARIMA model\n",
    "model = ARIMA(monthly_data, order=(5, 1, 0))  # p=5, d=1, q=0 (can fine tune)\n",
    "model_fit = model.fit()\n",
    "\n",
    "# Summarize the model\n",
    "model_fit.summary()"
   ]
  },
  {
   "cell_type": "code",
   "execution_count": 39,
   "metadata": {},
   "outputs": [
    {
     "data": {
      "image/png": "[encoded data removed]",
      "text/plain": [
       "<Figure size 1000x600 with 1 Axes>"
      ]
     },
     "metadata": {},
     "output_type": "display_data"
    }
   ],
   "source": [
    "# Forecast for the next 2 months\n",
    "forecast = model_fit.forecast(steps=12)\n",
    "\n",
    "# Plot the forecast\n",
    "plt.figure(figsize=(10, 6))\n",
    "plt.plot(monthly_data.index, monthly_data, label='Historical Data')\n",
    "plt.plot(pd.date_range(monthly_data.index[-1], periods=13, freq='M')[1:], forecast, label='Forecast', color='red')\n",
    "plt.title('Phone Device Demand Forecast')\n",
    "plt.xlabel('Date')\n",
    "plt.ylabel('closing_subs_monthly')\n",
    "plt.legend()\n",
    "plt.grid(True)\n",
    "plt.show()"
   ]
  },
  {
   "cell_type": "code",
   "execution_count": 41,
   "metadata": {},
   "outputs": [
    {
     "ename": "ValueError",
     "evalue": "Found input variables with inconsistent numbers of samples: [2729, 12]",
     "output_type": "error",
     "traceback": [
      "\u001b[0;31m---------------------------------------------------------------------------\u001b[0m",
      "\u001b[0;31mValueError\u001b[0m                                Traceback (most recent call last)",
      "Cell \u001b[0;32mIn[41], line 7\u001b[0m\n\u001b[1;32m      2\u001b[0m \u001b[38;5;28;01mimport\u001b[39;00m \u001b[38;5;21;01mnumpy\u001b[39;00m \u001b[38;5;28;01mas\u001b[39;00m \u001b[38;5;21;01mnp\u001b[39;00m\n\u001b[1;32m      4\u001b[0m \u001b[38;5;66;03m#forecast = [215, 225]  # Replace with the forecasted values from your ARIMA model\u001b[39;00m\n\u001b[1;32m      5\u001b[0m \n\u001b[1;32m      6\u001b[0m \u001b[38;5;66;03m# Calculate Mean Absolute Error (MAE)\u001b[39;00m\n\u001b[0;32m----> 7\u001b[0m mae \u001b[38;5;241m=\u001b[39m \u001b[43mmean_absolute_error\u001b[49m\u001b[43m(\u001b[49m\u001b[43mtest_data\u001b[49m\u001b[43m,\u001b[49m\u001b[43m \u001b[49m\u001b[43mforecast\u001b[49m\u001b[43m)\u001b[49m\n\u001b[1;32m      9\u001b[0m \u001b[38;5;66;03m# Calculate Root Mean Squared Error (RMSE)\u001b[39;00m\n\u001b[1;32m     10\u001b[0m rmse \u001b[38;5;241m=\u001b[39m np\u001b[38;5;241m.\u001b[39msqrt(mean_squared_error(test_data, forecast))\n",
      "File \u001b[0;32m~/miniconda3/envs/dev/lib/python3.10/site-packages/sklearn/utils/_param_validation.py:214\u001b[0m, in \u001b[0;36mvalidate_params.<locals>.decorator.<locals>.wrapper\u001b[0;34m(*args, **kwargs)\u001b[0m\n\u001b[1;32m    208\u001b[0m \u001b[38;5;28;01mtry\u001b[39;00m:\n\u001b[1;32m    209\u001b[0m     \u001b[38;5;28;01mwith\u001b[39;00m config_context(\n\u001b[1;32m    210\u001b[0m         skip_parameter_validation\u001b[38;5;241m=\u001b[39m(\n\u001b[1;32m    211\u001b[0m             prefer_skip_nested_validation \u001b[38;5;129;01mor\u001b[39;00m global_skip_validation\n\u001b[1;32m    212\u001b[0m         )\n\u001b[1;32m    213\u001b[0m     ):\n\u001b[0;32m--> 214\u001b[0m         \u001b[38;5;28;01mreturn\u001b[39;00m \u001b[43mfunc\u001b[49m\u001b[43m(\u001b[49m\u001b[38;5;241;43m*\u001b[39;49m\u001b[43margs\u001b[49m\u001b[43m,\u001b[49m\u001b[43m \u001b[49m\u001b[38;5;241;43m*\u001b[39;49m\u001b[38;5;241;43m*\u001b[39;49m\u001b[43mkwargs\u001b[49m\u001b[43m)\u001b[49m\n\u001b[1;32m    215\u001b[0m \u001b[38;5;28;01mexcept\u001b[39;00m InvalidParameterError \u001b[38;5;28;01mas\u001b[39;00m e:\n\u001b[1;32m    216\u001b[0m     \u001b[38;5;66;03m# When the function is just a wrapper around an estimator, we allow\u001b[39;00m\n\u001b[1;32m    217\u001b[0m     \u001b[38;5;66;03m# the function to delegate validation to the estimator, but we replace\u001b[39;00m\n\u001b[1;32m    218\u001b[0m     \u001b[38;5;66;03m# the name of the estimator by the name of the function in the error\u001b[39;00m\n\u001b[1;32m    219\u001b[0m     \u001b[38;5;66;03m# message to avoid confusion.\u001b[39;00m\n\u001b[1;32m    220\u001b[0m     msg \u001b[38;5;241m=\u001b[39m re\u001b[38;5;241m.\u001b[39msub(\n\u001b[1;32m    221\u001b[0m         \u001b[38;5;124mr\u001b[39m\u001b[38;5;124m\"\u001b[39m\u001b[38;5;124mparameter of \u001b[39m\u001b[38;5;124m\\\u001b[39m\u001b[38;5;124mw+ must be\u001b[39m\u001b[38;5;124m\"\u001b[39m,\n\u001b[1;32m    222\u001b[0m         \u001b[38;5;124mf\u001b[39m\u001b[38;5;124m\"\u001b[39m\u001b[38;5;124mparameter of \u001b[39m\u001b[38;5;132;01m{\u001b[39;00mfunc\u001b[38;5;241m.\u001b[39m\u001b[38;5;18m__qualname__\u001b[39m\u001b[38;5;132;01m}\u001b[39;00m\u001b[38;5;124m must be\u001b[39m\u001b[38;5;124m\"\u001b[39m,\n\u001b[1;32m    223\u001b[0m         \u001b[38;5;28mstr\u001b[39m(e),\n\u001b[1;32m    224\u001b[0m     )\n",
      "File \u001b[0;32m~/miniconda3/envs/dev/lib/python3.10/site-packages/sklearn/metrics/_regression.py:204\u001b[0m, in \u001b[0;36mmean_absolute_error\u001b[0;34m(y_true, y_pred, sample_weight, multioutput)\u001b[0m\n\u001b[1;32m    140\u001b[0m \u001b[38;5;129m@validate_params\u001b[39m(\n\u001b[1;32m    141\u001b[0m     {\n\u001b[1;32m    142\u001b[0m         \u001b[38;5;124m\"\u001b[39m\u001b[38;5;124my_true\u001b[39m\u001b[38;5;124m\"\u001b[39m: [\u001b[38;5;124m\"\u001b[39m\u001b[38;5;124marray-like\u001b[39m\u001b[38;5;124m\"\u001b[39m],\n\u001b[0;32m   (...)\u001b[0m\n\u001b[1;32m    150\u001b[0m     y_true, y_pred, \u001b[38;5;241m*\u001b[39m, sample_weight\u001b[38;5;241m=\u001b[39m\u001b[38;5;28;01mNone\u001b[39;00m, multioutput\u001b[38;5;241m=\u001b[39m\u001b[38;5;124m\"\u001b[39m\u001b[38;5;124muniform_average\u001b[39m\u001b[38;5;124m\"\u001b[39m\n\u001b[1;32m    151\u001b[0m ):\n\u001b[1;32m    152\u001b[0m \u001b[38;5;250m    \u001b[39m\u001b[38;5;124;03m\"\"\"Mean absolute error regression loss.\u001b[39;00m\n\u001b[1;32m    153\u001b[0m \n\u001b[1;32m    154\u001b[0m \u001b[38;5;124;03m    Read more in the :ref:`User Guide <mean_absolute_error>`.\u001b[39;00m\n\u001b[0;32m   (...)\u001b[0m\n\u001b[1;32m    202\u001b[0m \u001b[38;5;124;03m    0.85...\u001b[39;00m\n\u001b[1;32m    203\u001b[0m \u001b[38;5;124;03m    \"\"\"\u001b[39;00m\n\u001b[0;32m--> 204\u001b[0m     y_type, y_true, y_pred, multioutput \u001b[38;5;241m=\u001b[39m \u001b[43m_check_reg_targets\u001b[49m\u001b[43m(\u001b[49m\n\u001b[1;32m    205\u001b[0m \u001b[43m        \u001b[49m\u001b[43my_true\u001b[49m\u001b[43m,\u001b[49m\u001b[43m \u001b[49m\u001b[43my_pred\u001b[49m\u001b[43m,\u001b[49m\u001b[43m \u001b[49m\u001b[43mmultioutput\u001b[49m\n\u001b[1;32m    206\u001b[0m \u001b[43m    \u001b[49m\u001b[43m)\u001b[49m\n\u001b[1;32m    207\u001b[0m     check_consistent_length(y_true, y_pred, sample_weight)\n\u001b[1;32m    208\u001b[0m     output_errors \u001b[38;5;241m=\u001b[39m np\u001b[38;5;241m.\u001b[39maverage(np\u001b[38;5;241m.\u001b[39mabs(y_pred \u001b[38;5;241m-\u001b[39m y_true), weights\u001b[38;5;241m=\u001b[39msample_weight, axis\u001b[38;5;241m=\u001b[39m\u001b[38;5;241m0\u001b[39m)\n",
      "File \u001b[0;32m~/miniconda3/envs/dev/lib/python3.10/site-packages/sklearn/metrics/_regression.py:99\u001b[0m, in \u001b[0;36m_check_reg_targets\u001b[0;34m(y_true, y_pred, multioutput, dtype)\u001b[0m\n\u001b[1;32m     65\u001b[0m \u001b[38;5;28;01mdef\u001b[39;00m \u001b[38;5;21m_check_reg_targets\u001b[39m(y_true, y_pred, multioutput, dtype\u001b[38;5;241m=\u001b[39m\u001b[38;5;124m\"\u001b[39m\u001b[38;5;124mnumeric\u001b[39m\u001b[38;5;124m\"\u001b[39m):\n\u001b[1;32m     66\u001b[0m \u001b[38;5;250m    \u001b[39m\u001b[38;5;124;03m\"\"\"Check that y_true and y_pred belong to the same regression task.\u001b[39;00m\n\u001b[1;32m     67\u001b[0m \n\u001b[1;32m     68\u001b[0m \u001b[38;5;124;03m    Parameters\u001b[39;00m\n\u001b[0;32m   (...)\u001b[0m\n\u001b[1;32m     97\u001b[0m \u001b[38;5;124;03m        correct keyword.\u001b[39;00m\n\u001b[1;32m     98\u001b[0m \u001b[38;5;124;03m    \"\"\"\u001b[39;00m\n\u001b[0;32m---> 99\u001b[0m     \u001b[43mcheck_consistent_length\u001b[49m\u001b[43m(\u001b[49m\u001b[43my_true\u001b[49m\u001b[43m,\u001b[49m\u001b[43m \u001b[49m\u001b[43my_pred\u001b[49m\u001b[43m)\u001b[49m\n\u001b[1;32m    100\u001b[0m     y_true \u001b[38;5;241m=\u001b[39m check_array(y_true, ensure_2d\u001b[38;5;241m=\u001b[39m\u001b[38;5;28;01mFalse\u001b[39;00m, dtype\u001b[38;5;241m=\u001b[39mdtype)\n\u001b[1;32m    101\u001b[0m     y_pred \u001b[38;5;241m=\u001b[39m check_array(y_pred, ensure_2d\u001b[38;5;241m=\u001b[39m\u001b[38;5;28;01mFalse\u001b[39;00m, dtype\u001b[38;5;241m=\u001b[39mdtype)\n",
      "File \u001b[0;32m~/miniconda3/envs/dev/lib/python3.10/site-packages/sklearn/utils/validation.py:407\u001b[0m, in \u001b[0;36mcheck_consistent_length\u001b[0;34m(*arrays)\u001b[0m\n\u001b[1;32m    405\u001b[0m uniques \u001b[38;5;241m=\u001b[39m np\u001b[38;5;241m.\u001b[39munique(lengths)\n\u001b[1;32m    406\u001b[0m \u001b[38;5;28;01mif\u001b[39;00m \u001b[38;5;28mlen\u001b[39m(uniques) \u001b[38;5;241m>\u001b[39m \u001b[38;5;241m1\u001b[39m:\n\u001b[0;32m--> 407\u001b[0m     \u001b[38;5;28;01mraise\u001b[39;00m \u001b[38;5;167;01mValueError\u001b[39;00m(\n\u001b[1;32m    408\u001b[0m         \u001b[38;5;124m\"\u001b[39m\u001b[38;5;124mFound input variables with inconsistent numbers of samples: \u001b[39m\u001b[38;5;132;01m%r\u001b[39;00m\u001b[38;5;124m\"\u001b[39m\n\u001b[1;32m    409\u001b[0m         \u001b[38;5;241m%\u001b[39m [\u001b[38;5;28mint\u001b[39m(l) \u001b[38;5;28;01mfor\u001b[39;00m l \u001b[38;5;129;01min\u001b[39;00m lengths]\n\u001b[1;32m    410\u001b[0m     )\n",
      "\u001b[0;31mValueError\u001b[0m: Found input variables with inconsistent numbers of samples: [2729, 12]"
     ]
    }
   ],
   "source": [
    "from sklearn.metrics import mean_absolute_error, mean_squared_error\n",
    "import numpy as np\n",
    "\n",
    "#forecast = [215, 225]  # Replace with the forecasted values from your ARIMA model\n",
    "\n",
    "# Calculate Mean Absolute Error (MAE)\n",
    "mae = mean_absolute_error(test_data, forecast)\n",
    "\n",
    "# Calculate Root Mean Squared Error (RMSE)\n",
    "rmse = np.sqrt(mean_squared_error(test_data, forecast))\n",
    "\n",
    "# Print the results\n",
    "print(f'MAE: {mae}')\n",
    "print(f'RMSE: {rmse}')\n"
   ]
  },
  {
   "cell_type": "markdown",
   "metadata": {},
   "source": [
    "Phone demand forcast for the next 2 months (January and February 2025)"
   ]
  },
  {
   "cell_type": "code",
   "execution_count": null,
   "metadata": {},
   "outputs": [
    {
     "name": "stdout",
     "output_type": "stream",
     "text": [
      "Future forecasted demand for Dec 2023 and Jan 2025: \n",
      "2023-12-01    281760.594818\n",
      "2024-01-01    276819.091405\n",
      "Freq: MS, Name: predicted_mean, dtype: float64\n"
     ]
    }
   ],
   "source": [
    "future_forecast = model_fit.forecast(steps=2) \n",
    "print(f\"Future forecasted demand for Dec 2023 and Jan 2025: \\n{future_forecast}\")"
   ]
  },
  {
   "cell_type": "markdown",
   "metadata": {},
   "source": [
    "Interpretation:\n",
    "- Mean Absolute Error (MAE):\n",
    "    - The MAE of 5.0 indicates that, on average, the forecasted values are off by 5 units from the actual values. This is a straightforward measure of the error, showing how far off the predictions are in terms of absolute values, without considering the direction of the error.\n",
    "    - In practical terms, this means that for each forecasted value, the difference between the actual and predicted value is, on average, 5 units.\n",
    "\n",
    "- Root Mean Squared Error (RMSE):\n",
    "    - The RMSE of 5.0 suggests that the forecast error, on average, has a magnitude of 5.0, taking into account the squared differences. Since the MAE and RMSE are identical here, it indicates that the errors are consistent across all data points and are relatively small in magnitude.\n",
    "\n",
    "<br>\n",
    "\n",
    "---"
   ]
  },
  {
   "cell_type": "markdown",
   "metadata": {},
   "source": [
    "## RandomForestRegressor to predict closing_subs_monthly"
   ]
  },
  {
   "cell_type": "code",
   "execution_count": null,
   "metadata": {},
   "outputs": [
    {
     "name": "stdout",
     "output_type": "stream",
     "text": [
      "Root Mean Squared Error (RMSE): 1870.7079620144557\n"
     ]
    }
   ],
   "source": [
    "from sklearn.preprocessing import OneHotEncoder\n",
    "from sklearn.compose import ColumnTransformer\n",
    "from sklearn.pipeline import Pipeline\n",
    "from sklearn.ensemble import RandomForestRegressor\n",
    "from sklearn.metrics import mean_squared_error\n",
    "import numpy as np\n",
    "\n",
    "\n",
    "# Define column transformer\n",
    "preprocessor = ColumnTransformer(\n",
    "    transformers=[\n",
    "        ('cat', OneHotEncoder(drop='first'), categorical_cols)  \n",
    "    ])\n",
    "\n",
    "# Define the model pipeline\n",
    "model_pipeline = Pipeline(steps=[\n",
    "    ('preprocessor', preprocessor),\n",
    "    ('regressor', RandomForestRegressor(n_estimators=100, random_state=42)) \n",
    "])\n",
    "\n",
    "# Model training\n",
    "model_pipeline.fit(X_train, y_train)\n",
    "\n",
    "# Predictions and evaluation\n",
    "y_pred = model_pipeline.predict(X_test)\n",
    "\n",
    "# Evaluate the model performance\n",
    "rmse = np.sqrt(mean_squared_error(y_test, y_pred))\n",
    "print(f'Root Mean Squared Error (RMSE): {rmse}')"
   ]
  },
  {
   "cell_type": "markdown",
   "metadata": {},
   "source": [
    "Phone demand forcast for the next 2 months (January and February 2025)"
   ]
  },
  {
   "cell_type": "code",
   "execution_count": null,
   "metadata": {},
   "outputs": [
    {
     "name": "stdout",
     "output_type": "stream",
     "text": [
      "Root Mean Squared Error (RMSE): 1870.7079620144557\n",
      "Predicted closing_subs_monthly for Dec 2023 and Jan 2024: [1199.25661648 1199.25661648]\n"
     ]
    }
   ],
   "source": [
    "# Create a DataFrame for the next 2 months\n",
    "future_months_data = pd.DataFrame({\n",
    "    'year': [2023, 2024],  # Next 2 months (2025)\n",
    "    'month': [12, 1],       # January and February\n",
    "    'us_state': ['California', 'California'],  # 2 values, one for each month\n",
    "    'make': ['Apple', 'Apple'],\n",
    "    'phone_series': ['IPHONE 12', 'IPHONE 12'],\n",
    "    'model_family': ['APPLE IPHONE 12 PRO MAX', 'APPLE IPHONE 12 PRO MAX'],\n",
    "    'colour': ['Gray', 'Gray'],\n",
    "    'size': [256, 256],\n",
    "    'model_age_months': [31, 31],\n",
    "    'predecessor': ['APPLE IPHONE 11 PRO MAX', 'APPLE IPHONE 11 PRO MAX'],\n",
    "    'successor': ['APPLE IPHONE 13 PRO MAX', 'APPLE IPHONE 13 PRO MAX'],\n",
    "    'model': ['IPHONE 12 PRO MAX 5G 256GB GRAPHITE', 'IPHONE 12 PRO MAX 5G 256GB GRAPHITE'],\n",
    "    'sku': ['IPH12PRM5G256GRY', 'IPH12PRM5G256GRY'],\n",
    "    'sku_no_colour': ['IPH12PRM5G256', 'IPH12PRM5G256'],\n",
    "    'claims': [3.0, 3.0],\n",
    "    'ir_rate_swap': [0.0, 0.0],\n",
    "    'ir_rate_replacement': [0.0, 0.0],\n",
    "    'ir_rate_monthly': [0.001585, 0.001585],\n",
    "    'churn_rate': [0.049128, 0.049128]\n",
    "})\n",
    "\n",
    "preprocessor = ColumnTransformer(\n",
    "    transformers=[\n",
    "        ('cat', OneHotEncoder(drop='first'), categorical_cols)  \n",
    "    ])\n",
    "\n",
    "model_pipeline = Pipeline(steps=[\n",
    "    ('preprocessor', preprocessor),\n",
    "    ('regressor', RandomForestRegressor(n_estimators=100, random_state=42))\n",
    "])\n",
    "\n",
    "model_pipeline.fit(X_train, y_train)\n",
    "\n",
    "# Predictions and evaluation\n",
    "y_pred = model_pipeline.predict(X_test)\n",
    "\n",
    "# Evaluate the model performance\n",
    "rmse = np.sqrt(mean_squared_error(y_test, y_pred))\n",
    "print(f'Root Mean Squared Error (RMSE): {rmse}')\n",
    "\n",
    "# Predict the closing_subs_monthly for the next 2 months\n",
    "future_predictions = model_pipeline.predict(future_months_data)\n",
    "\n",
    "# Display the predicted closing_subs_monthly for the next 2 months\n",
    "print(f'Predicted closing_subs_monthly for Dec 2023 and Jan 2024: {future_predictions}')\n"
   ]
  },
  {
   "cell_type": "markdown",
   "metadata": {},
   "source": [
    "<br>\n",
    "\n",
    "---"
   ]
  },
  {
   "cell_type": "markdown",
   "metadata": {},
   "source": [
    "## XGBoost\n",
    "\n",
    "XGBoost is an ensemble learning method that combines the predictions of multiple weak models (decision trees) to create a strong predictive model."
   ]
  },
  {
   "cell_type": "code",
   "execution_count": null,
   "metadata": {},
   "outputs": [
    {
     "name": "stderr",
     "output_type": "stream",
     "text": [
      "/Users/carlychinsekyi/miniconda3/envs/dev/lib/python3.10/site-packages/sklearn/preprocessing/_encoders.py:975: FutureWarning: `sparse` was renamed to `sparse_output` in version 1.2 and will be removed in 1.4. `sparse_output` is ignored unless you leave `sparse` to its default value.\n",
      "  warnings.warn(\n"
     ]
    }
   ],
   "source": [
    "preprocessor = ColumnTransformer(\n",
    "    transformers=[\n",
    "        ('cat', OneHotEncoder(handle_unknown='ignore', sparse=False), categorical_cols)\n",
    "    ]\n",
    ")\n",
    "\n",
    "X_processed = preprocessor.fit_transform(X_train)"
   ]
  },
  {
   "cell_type": "markdown",
   "metadata": {},
   "source": [
    "Using GridSearch CV to find the best hyperparameters"
   ]
  },
  {
   "cell_type": "code",
   "execution_count": null,
   "metadata": {},
   "outputs": [
    {
     "name": "stdout",
     "output_type": "stream",
     "text": [
      "Mean Squared Error: 3497814.339077712\n",
      "Fitting 5 folds for each of 243 candidates, totalling 1215 fits\n"
     ]
    },
    {
     "name": "stderr",
     "output_type": "stream",
     "text": [
      "/Users/carlychinsekyi/miniconda3/envs/dev/lib/python3.10/site-packages/sklearn/preprocessing/_encoders.py:975: FutureWarning: `sparse` was renamed to `sparse_output` in version 1.2 and will be removed in 1.4. `sparse_output` is ignored unless you leave `sparse` to its default value.\n",
      "  warnings.warn(\n"
     ]
    },
    {
     "name": "stdout",
     "output_type": "stream",
     "text": [
      "Best Hyperparameters: {'colsample_bytree': 1.0, 'learning_rate': 0.2, 'max_depth': 7, 'n_estimators': 200, 'subsample': 0.8}\n",
      "Mean Squared Error: 3502797.2223229036\n"
     ]
    }
   ],
   "source": [
    "from sklearn.preprocessing import OneHotEncoder\n",
    "from sklearn.compose import ColumnTransformer\n",
    "import xgboost as xgb\n",
    "from sklearn.metrics import mean_squared_error\n",
    "from sklearn.model_selection import GridSearchCV\n",
    "import numpy as np\n",
    "\n",
    "# Define the column transformer with OneHotEncoder\n",
    "preprocessor = ColumnTransformer(\n",
    "    transformers=[\n",
    "        ('cat', OneHotEncoder(handle_unknown='ignore', sparse=False), categorical_cols)\n",
    "    ]\n",
    ")\n",
    "\n",
    "# Fit and transform the training data\n",
    "X_train_processed = preprocessor.fit_transform(X_train)\n",
    "\n",
    "# Create the XGBoost model\n",
    "model = xgb.XGBRegressor(objective='reg:squarederror', n_estimators=100, random_state=3244)\n",
    "\n",
    "# Fit the model to the training data\n",
    "model.fit(X_train_processed, y_train)\n",
    "\n",
    "# Evaluate the model on the test data (transforming the test data using the already fitted preprocessor)\n",
    "X_test_processed = preprocessor.transform(X_test)\n",
    "y_pred = model.predict(X_test_processed)\n",
    "\n",
    "# Evaluate the model\n",
    "mse = mean_squared_error(y_test, y_pred)\n",
    "print(f'Mean Squared Error: {mse}')\n",
    "\n",
    "# Hyperparameter tuning using GridSearchCV\n",
    "param_grid = {\n",
    "    'n_estimators': [50, 100, 200],\n",
    "    'max_depth': [3, 5, 7],\n",
    "    'learning_rate': [0.01, 0.1, 0.2],\n",
    "    'subsample': [0.8, 0.9, 1.0],\n",
    "    'colsample_bytree': [0.8, 0.9, 1.0],\n",
    "}\n",
    "\n",
    "# Create the GridSearchCV object\n",
    "grid_search = GridSearchCV(estimator=model, param_grid=param_grid, scoring='neg_mean_squared_error', cv=5, verbose=1, n_jobs=-1)\n",
    "\n",
    "# Fit the model to the training data\n",
    "grid_search.fit(X_train_processed, y_train)\n",
    "\n",
    "# Get the best parameters\n",
    "best_params = grid_search.best_params_\n",
    "print(f\"Best Hyperparameters: {best_params}\")\n",
    "\n",
    "# Use the best model found by GridSearchCV\n",
    "best_model = grid_search.best_estimator_\n",
    "\n",
    "# Evaluate the best model on the test data\n",
    "y_pred = best_model.predict(X_test_processed)\n",
    "\n",
    "# Evaluate the model performance\n",
    "mse = mean_squared_error(y_test, y_pred)\n",
    "print(f'Mean Squared Error: {mse}')\n"
   ]
  },
  {
   "cell_type": "markdown",
   "metadata": {},
   "source": [
    "Phone demand forcast for the next 2 months (January and February 2025)"
   ]
  },
  {
   "cell_type": "code",
   "execution_count": null,
   "metadata": {},
   "outputs": [
    {
     "name": "stdout",
     "output_type": "stream",
     "text": [
      "Predicted closing_subs_monthly for Dec 2023 and Jan 2024: [1202.2214 1202.2214]\n"
     ]
    }
   ],
   "source": [
    "# Ensure all categorical columns are included and consistent with the training data\n",
    "future_months_data_processed = preprocessor.transform(future_months_data)\n",
    "\n",
    "# Make predictions using the best model\n",
    "future_predictions = best_model.predict(future_months_data_processed)\n",
    "\n",
    "# Display the predicted closing_subs_monthly for the next 2 months\n",
    "print(f'Predicted closing_subs_monthly for Dec 2023 and Jan 2024: {future_predictions}')"
   ]
  },
  {
   "cell_type": "markdown",
   "metadata": {},
   "source": [
    "---\n",
    "\n",
    "<br>\n"
   ]
  },
  {
   "cell_type": "markdown",
   "metadata": {},
   "source": [
    "# Model Comparison"
   ]
  },
  {
   "cell_type": "markdown",
   "metadata": {},
   "source": [
    "**_Predicted closing_subs_monthly for Dec 2023 and Jan 2024 for the 3 models are:_**      \n",
    "- ARIMA: [592.796356, 602.548306]\n",
    "- RandomForest: [1199.25661648 1199.25661648]\n",
    "- XGBoost: [1202.2214 1202.2214]\n",
    "\n",
    "**_Observations_**  \n",
    "\n",
    "- ARIMA Model: The ARIMA model predicts significantly lower values for closing subscriptions, with forecasts of approximately 593 and 603 for December 2023 and January 2024, respectively. This is likely due to the ARIMA model’s reliance on time series data and its ability to capture underlying trends, seasonality, and patterns. However, the smaller predicted values might indicate that the model is more conservative in its forecasting, perhaps due to overfitting to historical fluctuations or insufficient feature representation.\n",
    "\n",
    "- RandomForest and XGBoost Models: Both the RandomForest and XGBoost models provide nearly identical predictions of around 1199 for both months. These models, being ensemble methods, tend to perform well in capturing complex, non-linear relationships in the data. Their predictions suggest a higher demand compared to the ARIMA model, which could indicate that they are overestimating the trend or possibly not accounting for some of the seasonal variations that ARIMA captures more effectively.\n",
    "\n",
    "Overall, the ARIMA model seems to provide a more conservative and trend-following estimate, while the RandomForest and XGBoost models offer higher forecasts that might be influenced by non-linear relationships or external factors not captured by ARIMA’s simpler approach."
   ]
  },
  {
   "cell_type": "markdown",
   "metadata": {},
   "source": [
    "Model Evaluation"
   ]
  },
  {
   "cell_type": "code",
   "execution_count": null,
   "metadata": {},
   "outputs": [],
   "source": []
  }
 ],
 "metadata": {
  "kernelspec": {
   "display_name": "dev",
   "language": "python",
   "name": "python3"
  },
  "language_info": {
   "codemirror_mode": {
    "name": "ipython",
    "version": 3
   },
   "file_extension": ".py",
   "mimetype": "text/x-python",
   "name": "python",
   "nbconvert_exporter": "python",
   "pygments_lexer": "ipython3",
   "version": "3.10.14"
  }
 },
 "nbformat": 4,
 "nbformat_minor": 2
}
