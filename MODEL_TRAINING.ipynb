{
 "cells": [
  {
   "cell_type": "markdown",
   "metadata": {},
   "source": [
    "# Model Training"
   ]
  },
  {
   "cell_type": "markdown",
   "metadata": {},
   "source": [
    "## Table of Contents\n",
    "- Evaluation Metrics Used\n",
    "- Modelling\n",
    "- Comparison of Models\n",
    "- Results\n",
    "\n",
    "<br>\n"
   ]
  },
  {
   "cell_type": "markdown",
   "metadata": {},
   "source": [
    "## Evaluation Metrics Used\n",
    "\n",
    "#### Accuracy\n",
    "Accuracy provides a ratio of correctly predicted observations to the total observations. \n",
    "**Formula**:\n",
    "$$\\text{Accuracy} = \\frac{\\text{Number of Correct Predictions}}{\\text{Total Number of Predictions}}$$\n",
    "\n",
    "#### Confusion Matrix and Related Terms\n",
    "The confusion matrix is a table layout that allows visualization of the performance of the algorithm, where each number in the matrix represents:\n",
    "- **TP (True Positives)**: Correctly predicted positive observations.\n",
    "- **TN (True Negatives)**: Correctly predicted negative observations.\n",
    "- **FP (False Positives)**: Incorrectly predicted as positive.\n",
    "- **FN (False Negatives)**: Incorrectly predicted as negative.\n",
    "\n",
    "#### Precision, Recall, and F1-Score\n",
    "- **Precision**:\n",
    "$$ \\text{Precision} = \\frac{\\text{TP}}{\\text{TP} + \\text{FP}} $$\n",
    "Precision measures the accuracy of positive predictions.\n",
    "\n",
    "- **Recall** (or Sensitivity or TPR):\n",
    "$$ \\text{Recall} = \\frac{\\text{TP}}{\\text{TP} + \\text{FN}} $$\n",
    "Recall measures the ability of a model to find all the relevant cases (all positive samples).\n",
    "\n",
    "- **F1-Score**:\n",
    "$$ \\text{F1-Score} = 2 \\times \\left( \\frac{\\text{Precision} \\times \\text{Recall}}{\\text{Precision} + \\text{Recall}} \\right) $$\n",
    "The F1-Score is the weighted average of Precision and Recall. Therefore, this score takes both false positives and false negatives into account. A high F1-score shows a model can classify the positive class correctly, while not misclassifying many negative classes as positive."
   ]
  },
  {
   "cell_type": "markdown",
   "metadata": {},
   "source": [
    "<br>"
   ]
  },
  {
   "cell_type": "markdown",
   "metadata": {},
   "source": [
    "## Import data and train_test_split"
   ]
  },
  {
   "cell_type": "code",
   "execution_count": 27,
   "metadata": {},
   "outputs": [],
   "source": [
    "import pandas as pd\n",
    "df = pd.read_csv(\"data/cleaned_df_v2.csv\", index_col=False)\n",
    "df = df.iloc[: , 1:]\n",
    "\n",
    "# convert date\n",
    "df['year_month'] = pd.to_datetime(df['year_month'])\n",
    "df['year'] = df['year_month'].dt.year\n",
    "df['month'] = df['year_month'].dt.month"
   ]
  },
  {
   "cell_type": "code",
   "execution_count": 28,
   "metadata": {},
   "outputs": [
    {
     "data": {
      "text/html": [
       "<div>\n",
       "<style scoped>\n",
       "    .dataframe tbody tr th:only-of-type {\n",
       "        vertical-align: middle;\n",
       "    }\n",
       "\n",
       "    .dataframe tbody tr th {\n",
       "        vertical-align: top;\n",
       "    }\n",
       "\n",
       "    .dataframe thead th {\n",
       "        text-align: right;\n",
       "    }\n",
       "</style>\n",
       "<table border=\"1\" class=\"dataframe\">\n",
       "  <thead>\n",
       "    <tr style=\"text-align: right;\">\n",
       "      <th></th>\n",
       "      <th>year</th>\n",
       "      <th>month</th>\n",
       "      <th>us_state</th>\n",
       "      <th>make</th>\n",
       "      <th>phone_series</th>\n",
       "      <th>model_family</th>\n",
       "      <th>model_age_months</th>\n",
       "      <th>predecessor</th>\n",
       "      <th>successor</th>\n",
       "      <th>model</th>\n",
       "      <th>sku</th>\n",
       "      <th>sku_no_colour</th>\n",
       "      <th>colour</th>\n",
       "      <th>size</th>\n",
       "      <th>claims</th>\n",
       "      <th>ir_rate_swap</th>\n",
       "      <th>ir_rate_replacement</th>\n",
       "      <th>ir_rate_monthly</th>\n",
       "      <th>churn_rate</th>\n",
       "    </tr>\n",
       "  </thead>\n",
       "  <tbody>\n",
       "    <tr>\n",
       "      <th>6615</th>\n",
       "      <td>2023</td>\n",
       "      <td>6</td>\n",
       "      <td>Nevada</td>\n",
       "      <td>Apple</td>\n",
       "      <td>IPHONE 12</td>\n",
       "      <td>APPLE IPHONE 12 PRO MAX</td>\n",
       "      <td>31</td>\n",
       "      <td>APPLE IPHONE 11 PRO MAX</td>\n",
       "      <td>APPLE IPHONE 13 PRO MAX</td>\n",
       "      <td>IPHONE 12 PRO MAX 5G 256GB GRAPHITE</td>\n",
       "      <td>IPH12PRM5G256GRY</td>\n",
       "      <td>IPH12PRM5G256</td>\n",
       "      <td>Gray</td>\n",
       "      <td>256</td>\n",
       "      <td>3.0</td>\n",
       "      <td>0.0</td>\n",
       "      <td>0.0</td>\n",
       "      <td>0.001585</td>\n",
       "      <td>0.049128</td>\n",
       "    </tr>\n",
       "    <tr>\n",
       "      <th>9440</th>\n",
       "      <td>2023</td>\n",
       "      <td>5</td>\n",
       "      <td>Nevada</td>\n",
       "      <td>Apple</td>\n",
       "      <td>IPHONE XR</td>\n",
       "      <td>APPLE IPHONE XR</td>\n",
       "      <td>55</td>\n",
       "      <td>APPLE IPHONE X</td>\n",
       "      <td>APPLE IPHONE 11</td>\n",
       "      <td>IPHONE XR 64GB BLACK</td>\n",
       "      <td>IPHXR64BLK</td>\n",
       "      <td>IPHXR64</td>\n",
       "      <td>Black</td>\n",
       "      <td>64</td>\n",
       "      <td>0.0</td>\n",
       "      <td>0.0</td>\n",
       "      <td>0.0</td>\n",
       "      <td>0.000000</td>\n",
       "      <td>0.055838</td>\n",
       "    </tr>\n",
       "    <tr>\n",
       "      <th>1549</th>\n",
       "      <td>2022</td>\n",
       "      <td>12</td>\n",
       "      <td>Texas</td>\n",
       "      <td>Oppo</td>\n",
       "      <td>OPPO A90</td>\n",
       "      <td>OPPO A94</td>\n",
       "      <td>21</td>\n",
       "      <td>First Model</td>\n",
       "      <td>Last Model</td>\n",
       "      <td>A94 128GB SILVER</td>\n",
       "      <td>A94128SIL</td>\n",
       "      <td>A94128</td>\n",
       "      <td>Silver</td>\n",
       "      <td>128</td>\n",
       "      <td>0.0</td>\n",
       "      <td>0.0</td>\n",
       "      <td>0.0</td>\n",
       "      <td>0.000000</td>\n",
       "      <td>0.073171</td>\n",
       "    </tr>\n",
       "    <tr>\n",
       "      <th>10717</th>\n",
       "      <td>2019</td>\n",
       "      <td>9</td>\n",
       "      <td>Nevada</td>\n",
       "      <td>Samsung</td>\n",
       "      <td>SAMSUNG GALAXY NOTE 9</td>\n",
       "      <td>SAMSUNG GALAXY NOTE 9</td>\n",
       "      <td>13</td>\n",
       "      <td>First Model</td>\n",
       "      <td>Last Model</td>\n",
       "      <td>GALAXY NOTE 9 128GB BLACK</td>\n",
       "      <td>NOTE9128BLK</td>\n",
       "      <td>NOTE9128</td>\n",
       "      <td>Black</td>\n",
       "      <td>128</td>\n",
       "      <td>16.0</td>\n",
       "      <td>0.0</td>\n",
       "      <td>0.0</td>\n",
       "      <td>0.002614</td>\n",
       "      <td>0.035778</td>\n",
       "    </tr>\n",
       "    <tr>\n",
       "      <th>3034</th>\n",
       "      <td>2021</td>\n",
       "      <td>4</td>\n",
       "      <td>California</td>\n",
       "      <td>Samsung</td>\n",
       "      <td>GALAXY S21</td>\n",
       "      <td>SAMSUNG GALAXY S21 PLUS</td>\n",
       "      <td>14</td>\n",
       "      <td>SAMSUNG GALAXY S20 PLUS</td>\n",
       "      <td>SAMSUNG GALAXY S22 PLUS</td>\n",
       "      <td>GALAXY S21 PLUS 5G 256GB BLACK</td>\n",
       "      <td>GXYS21P5G256BLK</td>\n",
       "      <td>GXYS21P5G256</td>\n",
       "      <td>Black</td>\n",
       "      <td>256</td>\n",
       "      <td>0.0</td>\n",
       "      <td>0.0</td>\n",
       "      <td>0.0</td>\n",
       "      <td>0.000000</td>\n",
       "      <td>0.027237</td>\n",
       "    </tr>\n",
       "  </tbody>\n",
       "</table>\n",
       "</div>"
      ],
      "text/plain": [
       "       year  month    us_state     make           phone_series  \\\n",
       "6615   2023      6      Nevada    Apple              IPHONE 12   \n",
       "9440   2023      5      Nevada    Apple              IPHONE XR   \n",
       "1549   2022     12       Texas     Oppo               OPPO A90   \n",
       "10717  2019      9      Nevada  Samsung  SAMSUNG GALAXY NOTE 9   \n",
       "3034   2021      4  California  Samsung             GALAXY S21   \n",
       "\n",
       "                  model_family  model_age_months              predecessor  \\\n",
       "6615   APPLE IPHONE 12 PRO MAX                31  APPLE IPHONE 11 PRO MAX   \n",
       "9440           APPLE IPHONE XR                55           APPLE IPHONE X   \n",
       "1549                  OPPO A94                21              First Model   \n",
       "10717    SAMSUNG GALAXY NOTE 9                13              First Model   \n",
       "3034   SAMSUNG GALAXY S21 PLUS                14  SAMSUNG GALAXY S20 PLUS   \n",
       "\n",
       "                     successor                                model  \\\n",
       "6615   APPLE IPHONE 13 PRO MAX  IPHONE 12 PRO MAX 5G 256GB GRAPHITE   \n",
       "9440           APPLE IPHONE 11                 IPHONE XR 64GB BLACK   \n",
       "1549                Last Model                     A94 128GB SILVER   \n",
       "10717               Last Model            GALAXY NOTE 9 128GB BLACK   \n",
       "3034   SAMSUNG GALAXY S22 PLUS       GALAXY S21 PLUS 5G 256GB BLACK   \n",
       "\n",
       "                    sku  sku_no_colour  colour  size  claims  ir_rate_swap  \\\n",
       "6615   IPH12PRM5G256GRY  IPH12PRM5G256    Gray   256     3.0           0.0   \n",
       "9440         IPHXR64BLK        IPHXR64   Black    64     0.0           0.0   \n",
       "1549          A94128SIL         A94128  Silver   128     0.0           0.0   \n",
       "10717       NOTE9128BLK       NOTE9128   Black   128    16.0           0.0   \n",
       "3034    GXYS21P5G256BLK   GXYS21P5G256   Black   256     0.0           0.0   \n",
       "\n",
       "       ir_rate_replacement  ir_rate_monthly  churn_rate  \n",
       "6615                   0.0         0.001585    0.049128  \n",
       "9440                   0.0         0.000000    0.055838  \n",
       "1549                   0.0         0.000000    0.073171  \n",
       "10717                  0.0         0.002614    0.035778  \n",
       "3034                   0.0         0.000000    0.027237  "
      ]
     },
     "execution_count": 28,
     "metadata": {},
     "output_type": "execute_result"
    }
   ],
   "source": [
    "from sklearn.model_selection import train_test_split\n",
    "\n",
    "features = ['year', 'month', 'us_state', 'make', 'phone_series',  'model_family','model_age_months', \n",
    "            'predecessor', 'successor', 'model', 'sku', 'sku_no_colour', 'colour', 'size', 'claims', \n",
    "            'ir_rate_swap', 'ir_rate_replacement', 'ir_rate_monthly', 'churn_rate'] # 19 features\n",
    "target = 'closing_subs_monthly'\n",
    "\n",
    "X = df[features]\n",
    "y = df[target]\n",
    "\n",
    "X_train, X_test, y_train, y_test = train_test_split(\n",
    "        X, y, test_size=0.3, random_state=3244\n",
    "    )\n",
    "\n",
    "X_train.head()"
   ]
  },
  {
   "cell_type": "code",
   "execution_count": 29,
   "metadata": {},
   "outputs": [],
   "source": [
    "categorical_cols = [\"us_state\", \"make\", \"phone_series\", \"model_family\", \"colour\", \"size\"]"
   ]
  },
  {
   "cell_type": "markdown",
   "metadata": {},
   "source": [
    "## RandomForestRegressor to predict closing_subs_monthly"
   ]
  },
  {
   "cell_type": "code",
   "execution_count": 30,
   "metadata": {},
   "outputs": [
    {
     "name": "stdout",
     "output_type": "stream",
     "text": [
      "Root Mean Squared Error (RMSE): 1870.7079620144557\n"
     ]
    }
   ],
   "source": [
    "from sklearn.preprocessing import OneHotEncoder\n",
    "from sklearn.compose import ColumnTransformer\n",
    "from sklearn.pipeline import Pipeline\n",
    "from sklearn.ensemble import RandomForestRegressor\n",
    "from sklearn.metrics import mean_squared_error\n",
    "import numpy as np\n",
    "\n",
    "\n",
    "# Define column transformer\n",
    "preprocessor = ColumnTransformer(\n",
    "    transformers=[\n",
    "        ('cat', OneHotEncoder(drop='first'), categorical_cols)  \n",
    "    ])\n",
    "\n",
    "# Define the model pipeline\n",
    "model_pipeline = Pipeline(steps=[\n",
    "    ('preprocessor', preprocessor),\n",
    "    ('regressor', RandomForestRegressor(n_estimators=100, random_state=42)) \n",
    "])\n",
    "\n",
    "# Model training\n",
    "model_pipeline.fit(X_train, y_train)\n",
    "\n",
    "# Predictions and evaluation\n",
    "y_pred = model_pipeline.predict(X_test)\n",
    "\n",
    "# Evaluate the model performance\n",
    "rmse = np.sqrt(mean_squared_error(y_test, y_pred))\n",
    "print(f'Root Mean Squared Error (RMSE): {rmse}')"
   ]
  },
  {
   "cell_type": "markdown",
   "metadata": {},
   "source": [
    "RMSE of 1870.71 indicates that, on average, the model's predictions are off by about 1870.71 units.\n",
    "\n"
   ]
  },
  {
   "cell_type": "markdown",
   "metadata": {},
   "source": [
    "## Time series model: ARIMA (AutoRegressive Integrated Moving Average) model"
   ]
  },
  {
   "cell_type": "code",
   "execution_count": 31,
   "metadata": {},
   "outputs": [
    {
     "name": "stdout",
     "output_type": "stream",
     "text": [
      "date\n",
      "2019-01-01     633.112710\n",
      "2019-02-01     525.608554\n",
      "2019-03-01     961.884443\n",
      "2019-04-01    1101.394905\n",
      "2019-05-01     948.019294\n",
      "Name: claims, dtype: float64\n"
     ]
    }
   ],
   "source": [
    "# Sort by 'year' and 'month'\n",
    "df['date'] = pd.to_datetime(df[['year', 'month']].assign(day=1))\n",
    "\n",
    "# Group data by month (sum or average claims)\n",
    "monthly_data = df.groupby('date')['claims'].sum()\n",
    "\n",
    "# Check the data\n",
    "print(monthly_data.head())\n"
   ]
  },
  {
   "cell_type": "code",
   "execution_count": 32,
   "metadata": {},
   "outputs": [
    {
     "data": {
      "image/png": "[encoded data removed]",
      "text/plain": [
       "<Figure size 1000x600 with 1 Axes>"
      ]
     },
     "metadata": {},
     "output_type": "display_data"
    }
   ],
   "source": [
    "import matplotlib.pyplot as plt\n",
    "\n",
    "# Plot the data\n",
    "plt.figure(figsize=(10, 6))\n",
    "monthly_data.plot()\n",
    "plt.title('Monthly Claims')\n",
    "plt.xlabel('Date')\n",
    "plt.ylabel('Claims')\n",
    "plt.grid(True)\n",
    "plt.show()\n"
   ]
  },
  {
   "cell_type": "code",
   "execution_count": 34,
   "metadata": {},
   "outputs": [
    {
     "name": "stdout",
     "output_type": "stream",
     "text": [
      "ADF Statistic: -1.0084416352340653\n",
      "p-value: 0.750172970005367\n"
     ]
    }
   ],
   "source": [
    "from statsmodels.tsa.stattools import adfuller\n",
    "\n",
    "# Perform ADF test\n",
    "result = adfuller(monthly_data)\n",
    "print(f'ADF Statistic: {result[0]}')\n",
    "print(f'p-value: {result[1]}')\n",
    "\n",
    "# If p-value < 0.05, the series is stationary\n"
   ]
  },
  {
   "cell_type": "code",
   "execution_count": 35,
   "metadata": {},
   "outputs": [
    {
     "name": "stdout",
     "output_type": "stream",
     "text": [
      "ADF Statistic (Differenced): -6.751875917279571\n",
      "p-value (Differenced): 2.937052635838381e-09\n"
     ]
    }
   ],
   "source": [
    "# Differencing the data to make it stationary\n",
    "monthly_data_diff = monthly_data.diff().dropna()\n",
    "\n",
    "# Check stationarity again\n",
    "result_diff = adfuller(monthly_data_diff)\n",
    "print(f'ADF Statistic (Differenced): {result_diff[0]}')\n",
    "print(f'p-value (Differenced): {result_diff[1]}')"
   ]
  },
  {
   "cell_type": "markdown",
   "metadata": {},
   "source": [
    "Now that the data is stationary (or made stationary), you can fit an ARIMA model.\n",
    "\n",
    "To identify the best parameters (p, d, q) for the ARIMA model, you can use grid search or ACF/PACF plots. However, for simplicity, you can start with some initial parameters."
   ]
  },
  {
   "cell_type": "code",
   "execution_count": null,
   "metadata": {},
   "outputs": [],
   "source": []
  },
  {
   "cell_type": "code",
   "execution_count": null,
   "metadata": {},
   "outputs": [],
   "source": [
    "from statsmodels.tsa.arima.model import ARIMA\n",
    "\n",
    "# Fit ARIMA model\n",
    "model = ARIMA(monthly_data, order=(5, 1, 0))  # p=5, d=1, q=0 (you may need to tune this)\n",
    "model_fit = model.fit()\n",
    "\n",
    "# Summarize the model\n",
    "print(model_fit.summary())\n"
   ]
  },
  {
   "cell_type": "code",
   "execution_count": null,
   "metadata": {},
   "outputs": [],
   "source": [
    "# Forecast for the next 12 months (for example)\n",
    "forecast = model_fit.forecast(steps=12)\n",
    "\n",
    "# Plot the forecast\n",
    "plt.figure(figsize=(10, 6))\n",
    "plt.plot(monthly_data.index, monthly_data, label='Historical Data')\n",
    "plt.plot(pd.date_range(monthly_data.index[-1], periods=13, freq='M')[1:], forecast, label='Forecast', color='red')\n",
    "plt.title('Phone Device Demand Forecast')\n",
    "plt.xlabel('Date')\n",
    "plt.ylabel('Claims')\n",
    "plt.legend()\n",
    "plt.grid(True)\n",
    "plt.show()\n"
   ]
  },
  {
   "cell_type": "code",
   "execution_count": null,
   "metadata": {},
   "outputs": [],
   "source": [
    "from sklearn.metrics import mean_absolute_error, mean_squared_error\n",
    "import numpy as np\n",
    "\n",
    "# Assuming `test_data` is the actual data for the forecast period\n",
    "mae = mean_absolute_error(test_data, forecast)\n",
    "rmse = np.sqrt(mean_squared_error(test_data, forecast))\n",
    "\n",
    "print(f'MAE: {mae}')\n",
    "print(f'RMSE: {rmse}')\n"
   ]
  }
 ],
 "metadata": {
  "kernelspec": {
   "display_name": "dev",
   "language": "python",
   "name": "python3"
  },
  "language_info": {
   "codemirror_mode": {
    "name": "ipython",
    "version": 3
   },
   "file_extension": ".py",
   "mimetype": "text/x-python",
   "name": "python",
   "nbconvert_exporter": "python",
   "pygments_lexer": "ipython3",
   "version": "3.10.14"
  }
 },
 "nbformat": 4,
 "nbformat_minor": 2
}
